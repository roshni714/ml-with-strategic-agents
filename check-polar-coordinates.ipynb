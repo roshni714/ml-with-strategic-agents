{
 "cells": [
  {
   "cell_type": "code",
   "execution_count": 1,
   "id": "9876e8ac",
   "metadata": {},
   "outputs": [],
   "source": [
    "from utils import convert_to_unit_vector, convert_to_polar_coordinates\n",
    "import numpy as np\n",
    "import matplotlib.pyplot as plt"
   ]
  },
  {
   "cell_type": "code",
   "execution_count": 2,
   "id": "295c04c7",
   "metadata": {},
   "outputs": [],
   "source": [
    "def convert_to_3d_coordinates(angles):\n",
    "    x = np.cos(angles[0])\n",
    "    y = np.sin(angles[0]) * np.cos(angles[1])\n",
    "    z = np.sin(angles[0]) * np.sin(angles[1])\n",
    "    return np.array([x, y, z]).reshape(3, 1)"
   ]
  },
  {
   "cell_type": "code",
   "execution_count": 5,
   "id": "88f12516",
   "metadata": {},
   "outputs": [],
   "source": [
    "thetas = np.linspace(0.01, 2* np.pi-0.01, 50)\n",
    "psis = np.linspace(0.01, np.pi-0.01, 50)\n",
    "unit_vectors = []\n",
    "for theta in thetas:\n",
    "    for psi in psis:\n",
    "        angles = np.array([psi, theta]).reshape(2, 1)\n",
    "        unit_vector = convert_to_unit_vector(angles)\n",
    "        unit_vectors.append(unit_vector)\n",
    "        angles2 = convert_to_polar_coordinates(unit_vector)\n",
    "        np.testing.assert_almost_equal(angles, angles2)\n",
    "\n"
   ]
  },
  {
   "cell_type": "code",
   "execution_count": null,
   "id": "9bdb0ec5",
   "metadata": {},
   "outputs": [],
   "source": []
  }
 ],
 "metadata": {
  "kernelspec": {
   "display_name": "Python 3 (ipykernel)",
   "language": "python",
   "name": "python3"
  },
  "language_info": {
   "codemirror_mode": {
    "name": "ipython",
    "version": 3
   },
   "file_extension": ".py",
   "mimetype": "text/x-python",
   "name": "python",
   "nbconvert_exporter": "python",
   "pygments_lexer": "ipython3",
   "version": "3.8.12"
  }
 },
 "nbformat": 4,
 "nbformat_minor": 5
}
