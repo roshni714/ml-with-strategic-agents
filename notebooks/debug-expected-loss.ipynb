{
 "cells": [
  {
   "cell_type": "code",
   "execution_count": 1,
   "id": "51ec21c9",
   "metadata": {},
   "outputs": [],
   "source": [
    "from train import learn_model\n",
    "from agent_distribution import AgentDistribution\n",
    "from utils import compute_continuity_noise, compute_contraction_noise, fixed_point_interpolation_true_distribution\n",
    "from optimal_beta import expected_policy_loss, empirical_policy_loss\n",
    "\n",
    "import numpy as np\n",
    "import matplotlib.pyplot as plt"
   ]
  },
  {
   "cell_type": "code",
   "execution_count": 2,
   "id": "d51a29bf",
   "metadata": {},
   "outputs": [],
   "source": [
    "def create_challenging_agent_dist(n, n_types, d):\n",
    "    gaming_type_etas = np.random.uniform(3., 5., int(n_types * d/2)).reshape(int(n_types/2), d, 1)\n",
    "    gaming_type_gamma_one = np.random.uniform(0.01, 0.02, int(n_types/2) ).reshape(int(n_types/2), 1, 1)\n",
    "    gaming_type_gamma_two = np.random.uniform(10., 20., int(n_types/2)).reshape(int(n_types/2), 1, 1)\n",
    "    gaming_type_gammas = np.hstack((gaming_type_gamma_one, gaming_type_gamma_two))\n",
    "    \n",
    "    natural_type_etas = np.random.uniform(5., 7., int(n_types *d/2)).reshape(int(n_types/2), d, 1)\n",
    "    natural_type_gammas = np.random.uniform(10., 20., int(n_types * d/2)).reshape(int(n_types/2), d, 1)\n",
    "    \n",
    "    etas = np.vstack((gaming_type_etas, natural_type_etas))\n",
    "    gammas = np.vstack((gaming_type_gammas, natural_type_gammas))\n",
    "    dic = {\"etas\": etas, \"gammas\": gammas}\n",
    "    agent_dist = AgentDistribution(n=n, d=d, n_types=n_types, types=dic, prop=None)\n",
    "    return agent_dist"
   ]
  },
  {
   "cell_type": "code",
   "execution_count": 3,
   "id": "3586c102",
   "metadata": {},
   "outputs": [],
   "source": [
    "np.random.seed(0)\n",
    "agent_dist = create_challenging_agent_dist(n=1000000, n_types=10, d=2)\n",
    "sigma = compute_continuity_noise(agent_dist) + 0.05\n",
    "q = 0.7\n",
    "beta = np.zeros((2, 1))\n",
    "s = agent_dist.quantile_fixed_point_true_distribution(beta, sigma, q)"
   ]
  },
  {
   "cell_type": "code",
   "execution_count": 4,
   "id": "07a3112c",
   "metadata": {},
   "outputs": [
    {
     "data": {
      "text/plain": [
       "-1.5120033251043072"
      ]
     },
     "execution_count": 4,
     "metadata": {},
     "output_type": "execute_result"
    }
   ],
   "source": [
    "expected_policy_loss(agent_dist, beta, s, sigma)    "
   ]
  },
  {
   "cell_type": "code",
   "execution_count": 6,
   "id": "34d968ce",
   "metadata": {},
   "outputs": [
    {
     "data": {
      "text/plain": [
       "-1.5121257319441745"
      ]
     },
     "execution_count": 6,
     "metadata": {},
     "output_type": "execute_result"
    }
   ],
   "source": [
    "empirical_policy_loss(agent_dist, beta, s, sigma, q) "
   ]
  },
  {
   "cell_type": "code",
   "execution_count": null,
   "id": "f046578a",
   "metadata": {},
   "outputs": [],
   "source": []
  }
 ],
 "metadata": {
  "kernelspec": {
   "display_name": "Python 3 (ipykernel)",
   "language": "python",
   "name": "python3"
  },
  "language_info": {
   "codemirror_mode": {
    "name": "ipython",
    "version": 3
   },
   "file_extension": ".py",
   "mimetype": "text/x-python",
   "name": "python",
   "nbconvert_exporter": "python",
   "pygments_lexer": "ipython3",
   "version": "3.8.12"
  }
 },
 "nbformat": 4,
 "nbformat_minor": 5
}
