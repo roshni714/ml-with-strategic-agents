{
 "cells": [
  {
   "cell_type": "code",
   "execution_count": 1,
   "id": "c6c4484a",
   "metadata": {},
   "outputs": [],
   "source": [
    "from agent import Agent\n",
    "from agent_distribution import AgentDistribution\n",
    "from utils import fixed_point_interpolation_true_distribution, compute_score_bounds\n",
    "import matplotlib.pyplot as plt\n",
    "import numpy as np\n",
    "from gradient_expected import plot_grad_loss_beta"
   ]
  },
  {
   "cell_type": "code",
   "execution_count": 2,
   "id": "dc6741ac",
   "metadata": {},
   "outputs": [],
   "source": [
    "agent_dist = AgentDistribution(n=10000, n_types=10)\n",
    "sigma = 0.35\n",
    "q = 0.7"
   ]
  },
  {
   "cell_type": "code",
   "execution_count": 3,
   "id": "a8b05b93",
   "metadata": {},
   "outputs": [
    {
     "name": "stdout",
     "output_type": "stream",
     "text": [
      "Computing fixed points...\n"
     ]
    },
    {
     "name": "stderr",
     "output_type": "stream",
     "text": [
      "100%|███████████████████████████████████████████████████████████████████████████████████████████████████████████████████████████████████████████████████████████████████████| 50/50 [00:55<00:00,  1.12s/it]\n"
     ]
    }
   ],
   "source": [
    "f = fixed_point_interpolation_true_distribution(agent_dist, 0.35, 0.7, plot=False)"
   ]
  },
  {
   "cell_type": "code",
   "execution_count": 4,
   "id": "0f4f42cd",
   "metadata": {},
   "outputs": [
    {
     "name": "stderr",
     "output_type": "stream",
     "text": [
      "  2%|███▎                                                                                                                                                                    | 1/50 [00:19<16:14, 19.88s/it]"
     ]
    },
    {
     "name": "stdout",
     "output_type": "stream",
     "text": [
      "[-0.11870473 -0.24158785] [[-0.17378457]\n",
      " [-0.37699224]]\n"
     ]
    },
    {
     "name": "stderr",
     "output_type": "stream",
     "text": [
      "\r",
      "  4%|██████▋                                                                                                                                                                 | 2/50 [00:39<15:52, 19.84s/it]"
     ]
    },
    {
     "name": "stdout",
     "output_type": "stream",
     "text": [
      "[-0.12007108 -0.22572201] [[-0.14915777]\n",
      " [-0.30899568]]\n"
     ]
    },
    {
     "name": "stderr",
     "output_type": "stream",
     "text": [
      "\r",
      "  6%|██████████                                                                                                                                                              | 3/50 [01:01<16:07, 20.59s/it]"
     ]
    },
    {
     "name": "stdout",
     "output_type": "stream",
     "text": [
      "[-0.12368955 -0.2099324 ] [[-0.16515559]\n",
      " [-0.26437036]]\n"
     ]
    },
    {
     "name": "stderr",
     "output_type": "stream",
     "text": [
      "\r",
      "  8%|█████████████▍                                                                                                                                                          | 4/50 [01:24<16:34, 21.63s/it]"
     ]
    },
    {
     "name": "stdout",
     "output_type": "stream",
     "text": [
      "[-0.12956756 -0.19441136] [[-0.14392648]\n",
      " [-0.25598529]]\n"
     ]
    },
    {
     "name": "stderr",
     "output_type": "stream",
     "text": [
      "\r",
      " 10%|████████████████▊                                                                                                                                                       | 5/50 [01:48<16:55, 22.56s/it]"
     ]
    },
    {
     "name": "stdout",
     "output_type": "stream",
     "text": [
      "[-0.13766352 -0.17936759] [[-0.14733231]\n",
      " [-0.19445223]]\n"
     ]
    },
    {
     "name": "stderr",
     "output_type": "stream",
     "text": [
      "\r",
      " 12%|████████████████████▏                                                                                                                                                   | 6/50 [02:15<17:42, 24.15s/it]"
     ]
    },
    {
     "name": "stdout",
     "output_type": "stream",
     "text": [
      "[-0.14790875 -0.1650948 ] [[-0.2464687]\n",
      " [-0.2106943]]\n"
     ]
    },
    {
     "name": "stderr",
     "output_type": "stream",
     "text": [
      "\r",
      " 14%|███████████████████████▌                                                                                                                                                | 7/50 [02:42<17:53, 24.96s/it]"
     ]
    },
    {
     "name": "stdout",
     "output_type": "stream",
     "text": [
      "[-0.16013534 -0.15184365] [[-0.22057525]\n",
      " [-0.17629557]]\n"
     ]
    },
    {
     "name": "stderr",
     "output_type": "stream",
     "text": [
      "\r",
      " 16%|██████████████████████████▉                                                                                                                                             | 8/50 [03:07<17:34, 25.10s/it]"
     ]
    },
    {
     "name": "stdout",
     "output_type": "stream",
     "text": [
      "[-0.17414219 -0.13992295] [[-0.17709169]\n",
      " [-0.20805102]]\n"
     ]
    },
    {
     "name": "stderr",
     "output_type": "stream",
     "text": [
      "\r",
      " 18%|██████████████████████████████▏                                                                                                                                         | 9/50 [03:33<17:11, 25.16s/it]"
     ]
    },
    {
     "name": "stdout",
     "output_type": "stream",
     "text": [
      "[-0.18964733 -0.12960659] [[-0.27621057]\n",
      " [-0.16122825]]\n"
     ]
    },
    {
     "name": "stderr",
     "output_type": "stream",
     "text": [
      "\r",
      " 20%|█████████████████████████████████▍                                                                                                                                     | 10/50 [03:56<16:28, 24.71s/it]"
     ]
    },
    {
     "name": "stdout",
     "output_type": "stream",
     "text": [
      "[-0.20637372 -0.12115621] [[-0.24087531]\n",
      " [-0.11815088]]\n"
     ]
    },
    {
     "name": "stderr",
     "output_type": "stream",
     "text": [
      "\r",
      " 22%|████████████████████████████████████▋                                                                                                                                  | 11/50 [04:20<15:48, 24.32s/it]"
     ]
    },
    {
     "name": "stdout",
     "output_type": "stream",
     "text": [
      "[-0.22393088 -0.11475577] [[-0.28761228]\n",
      " [-0.14134388]]\n"
     ]
    },
    {
     "name": "stderr",
     "output_type": "stream",
     "text": [
      "\r",
      " 24%|████████████████████████████████████████                                                                                                                               | 12/50 [04:41<14:47, 23.36s/it]"
     ]
    },
    {
     "name": "stdout",
     "output_type": "stream",
     "text": [
      "[-0.24199569 -0.11055742] [[-0.28162138]\n",
      " [-0.13305677]]\n"
     ]
    },
    {
     "name": "stderr",
     "output_type": "stream",
     "text": [
      "\r",
      " 26%|███████████████████████████████████████████▍                                                                                                                           | 13/50 [05:01<13:42, 22.23s/it]"
     ]
    },
    {
     "name": "stdout",
     "output_type": "stream",
     "text": [
      "[-0.26020282 -0.10864258] [[-0.30553504]\n",
      " [-0.11660653]]\n"
     ]
    },
    {
     "name": "stderr",
     "output_type": "stream",
     "text": [
      "\r",
      " 28%|██████████████████████████████████████████████▊                                                                                                                        | 14/50 [05:19<12:42, 21.18s/it]"
     ]
    },
    {
     "name": "stdout",
     "output_type": "stream",
     "text": [
      "[-0.27821    -0.10903753] [[-0.34909717]\n",
      " [-0.17293905]]\n"
     ]
    },
    {
     "name": "stderr",
     "output_type": "stream",
     "text": [
      "\r",
      " 30%|██████████████████████████████████████████████████                                                                                                                     | 15/50 [05:43<12:51, 22.05s/it]"
     ]
    },
    {
     "name": "stdout",
     "output_type": "stream",
     "text": [
      "[-0.29573174 -0.11171999] [[-0.33862767]\n",
      " [-0.13506954]]\n"
     ]
    },
    {
     "name": "stderr",
     "output_type": "stream",
     "text": [
      "\r",
      " 32%|█████████████████████████████████████████████████████▍                                                                                                                 | 16/50 [06:09<13:08, 23.18s/it]"
     ]
    },
    {
     "name": "stdout",
     "output_type": "stream",
     "text": [
      "[-0.31249523 -0.11662097] [[-0.35625914]\n",
      " [-0.14483937]]\n"
     ]
    },
    {
     "name": "stderr",
     "output_type": "stream",
     "text": [
      "\r",
      " 34%|████████████████████████████████████████████████████████▊                                                                                                              | 17/50 [06:35<13:08, 23.91s/it]"
     ]
    },
    {
     "name": "stdout",
     "output_type": "stream",
     "text": [
      "[-0.32832787 -0.12364705] [[-0.36254801]\n",
      " [-0.18382374]]\n"
     ]
    },
    {
     "name": "stderr",
     "output_type": "stream",
     "text": [
      "\r",
      " 36%|████████████████████████████████████████████████████████████                                                                                                           | 18/50 [06:59<12:46, 23.96s/it]"
     ]
    },
    {
     "name": "stdout",
     "output_type": "stream",
     "text": [
      "[-0.3429013  -0.13264274] [[-0.42940689]\n",
      " [-0.23015909]]\n"
     ]
    },
    {
     "name": "stderr",
     "output_type": "stream",
     "text": [
      "\r",
      " 38%|███████████████████████████████████████████████████████████████▍                                                                                                       | 19/50 [07:22<12:17, 23.78s/it]"
     ]
    },
    {
     "name": "stdout",
     "output_type": "stream",
     "text": [
      "[-0.35617334 -0.143478  ] [[-0.43269995]\n",
      " [-0.19918117]]\n"
     ]
    },
    {
     "name": "stderr",
     "output_type": "stream",
     "text": [
      "\r",
      " 40%|██████████████████████████████████████████████████████████████████▊                                                                                                    | 20/50 [07:48<12:10, 24.37s/it]"
     ]
    },
    {
     "name": "stdout",
     "output_type": "stream",
     "text": [
      "[-0.36799547 -0.15598541] [[-0.41922633]\n",
      " [-0.20406686]]\n"
     ]
    },
    {
     "name": "stderr",
     "output_type": "stream",
     "text": [
      "\r",
      " 42%|██████████████████████████████████████████████████████████████████████▏                                                                                                | 21/50 [08:13<11:55, 24.67s/it]"
     ]
    },
    {
     "name": "stdout",
     "output_type": "stream",
     "text": [
      "[-0.37826907 -0.1699938 ] [[-0.42778945]\n",
      " [-0.1882196 ]]\n"
     ]
    },
    {
     "name": "stderr",
     "output_type": "stream",
     "text": [
      "\r",
      " 44%|█████████████████████████████████████████████████████████████████████████▍                                                                                             | 22/50 [08:38<11:27, 24.56s/it]"
     ]
    },
    {
     "name": "stdout",
     "output_type": "stream",
     "text": [
      "[-0.3868056  -0.18528576] [[-0.40621327]\n",
      " [-0.27635808]]\n"
     ]
    },
    {
     "name": "stderr",
     "output_type": "stream",
     "text": [
      "\r",
      " 46%|████████████████████████████████████████████████████████████████████████████▊                                                                                          | 23/50 [09:01<10:54, 24.23s/it]"
     ]
    },
    {
     "name": "stdout",
     "output_type": "stream",
     "text": [
      "[-0.39363989 -0.20170869] [[-0.38690866]\n",
      " [-0.23827093]]\n"
     ]
    },
    {
     "name": "stderr",
     "output_type": "stream",
     "text": [
      "\r",
      " 48%|████████████████████████████████████████████████████████████████████████████████▏                                                                                      | 24/50 [09:23<10:10, 23.48s/it]"
     ]
    },
    {
     "name": "stdout",
     "output_type": "stream",
     "text": [
      "[-0.39854612 -0.21899723] [[-0.52294707]\n",
      " [-0.27669298]]\n"
     ]
    },
    {
     "name": "stderr",
     "output_type": "stream",
     "text": [
      "\r",
      " 50%|███████████████████████████████████████████████████████████████████████████████████▌                                                                                   | 25/50 [09:42<09:17, 22.29s/it]"
     ]
    },
    {
     "name": "stdout",
     "output_type": "stream",
     "text": [
      "[-0.40144756 -0.23692052] [[-0.49748353]\n",
      " [-0.26360019]]\n"
     ]
    },
    {
     "name": "stderr",
     "output_type": "stream",
     "text": [
      "\r",
      " 52%|██████████████████████████████████████████████████████████████████████████████████████▊                                                                                | 26/50 [10:01<08:30, 21.27s/it]"
     ]
    },
    {
     "name": "stdout",
     "output_type": "stream",
     "text": [
      "[-0.40228005 -0.25523505] [[-0.4349    ]\n",
      " [-0.29340589]]\n"
     ]
    },
    {
     "name": "stderr",
     "output_type": "stream",
     "text": [
      "\r",
      " 54%|██████████████████████████████████████████████████████████████████████████████████████████▏                                                                            | 27/50 [10:22<08:04, 21.08s/it]"
     ]
    },
    {
     "name": "stdout",
     "output_type": "stream",
     "text": [
      "[-0.40091786 -0.27363407] [[-0.40749949]\n",
      " [-0.30291017]]\n"
     ]
    },
    {
     "name": "stderr",
     "output_type": "stream",
     "text": [
      "\r",
      " 56%|█████████████████████████████████████████████████████████████████████████████████████████████▌                                                                         | 28/50 [10:44<07:49, 21.34s/it]"
     ]
    },
    {
     "name": "stdout",
     "output_type": "stream",
     "text": [
      "[-0.39723038 -0.29175815] [[-0.47301446]\n",
      " [-0.32601622]]\n"
     ]
    },
    {
     "name": "stderr",
     "output_type": "stream",
     "text": [
      "\r",
      " 58%|████████████████████████████████████████████████████████████████████████████████████████████████▊                                                                      | 29/50 [11:08<07:47, 22.25s/it]"
     ]
    },
    {
     "name": "stdout",
     "output_type": "stream",
     "text": [
      "[-0.3911533  -0.30923265] [[-0.42527409]\n",
      " [-0.34180299]]\n"
     ]
    },
    {
     "name": "stderr",
     "output_type": "stream",
     "text": [
      "\r",
      " 60%|████████████████████████████████████████████████████████████████████████████████████████████████████▏                                                                  | 30/50 [11:33<07:39, 22.95s/it]"
     ]
    },
    {
     "name": "stdout",
     "output_type": "stream",
     "text": [
      "[-0.38269261 -0.32567611] [[-0.37220395]\n",
      " [-0.33777272]]\n"
     ]
    },
    {
     "name": "stderr",
     "output_type": "stream",
     "text": [
      "\r",
      " 62%|███████████████████████████████████████████████████████████████████████████████████████████████████████▌                                                               | 31/50 [11:57<07:23, 23.35s/it]"
     ]
    },
    {
     "name": "stdout",
     "output_type": "stream",
     "text": [
      "[-0.37188388 -0.34067146] [[-0.37316195]\n",
      " [-0.38196967]]\n"
     ]
    },
    {
     "name": "stderr",
     "output_type": "stream",
     "text": [
      "\r",
      " 64%|██████████████████████████████████████████████████████████████████████████████████████████████████████████▉                                                            | 32/50 [12:21<07:02, 23.46s/it]"
     ]
    },
    {
     "name": "stdout",
     "output_type": "stream",
     "text": [
      "[-0.35889701 -0.35386677] [[-0.36935712]\n",
      " [-0.36803431]]\n"
     ]
    },
    {
     "name": "stderr",
     "output_type": "stream",
     "text": [
      "\r",
      " 66%|██████████████████████████████████████████████████████████████████████████████████████████████████████████████▏                                                        | 33/50 [12:45<06:43, 23.74s/it]"
     ]
    },
    {
     "name": "stdout",
     "output_type": "stream",
     "text": [
      "[-0.34394109 -0.36491491] [[-0.40298789]\n",
      " [-0.37694048]]\n"
     ]
    },
    {
     "name": "stderr",
     "output_type": "stream",
     "text": [
      "\r",
      " 68%|█████████████████████████████████████████████████████████████████████████████████████████████████████████████████▌                                                     | 34/50 [13:09<06:18, 23.68s/it]"
     ]
    },
    {
     "name": "stdout",
     "output_type": "stream",
     "text": [
      "[-0.32734627 -0.37358281] [[-0.35754999]\n",
      " [-0.40601585]]\n"
     ]
    },
    {
     "name": "stderr",
     "output_type": "stream",
     "text": [
      "\r",
      " 70%|████████████████████████████████████████████████████████████████████████████████████████████████████████████████████▉                                                  | 35/50 [13:31<05:49, 23.30s/it]"
     ]
    },
    {
     "name": "stdout",
     "output_type": "stream",
     "text": [
      "[-0.3094138 -0.3796117] [[-0.37087216]\n",
      " [-0.39290862]]\n"
     ]
    },
    {
     "name": "stderr",
     "output_type": "stream",
     "text": [
      "\r",
      " 72%|████████████████████████████████████████████████████████████████████████████████████████████████████████████████████████▏                                              | 36/50 [13:52<05:17, 22.66s/it]"
     ]
    },
    {
     "name": "stdout",
     "output_type": "stream",
     "text": [
      "[-0.29064189 -0.38303353] [[-0.32020989]\n",
      " [-0.43474062]]\n"
     ]
    },
    {
     "name": "stderr",
     "output_type": "stream",
     "text": [
      "\r",
      " 74%|███████████████████████████████████████████████████████████████████████████████████████████████████████████████████████████▌                                           | 37/50 [14:10<04:35, 21.16s/it]"
     ]
    },
    {
     "name": "stdout",
     "output_type": "stream",
     "text": [
      "[-0.27139584 -0.38377915] [[-0.26523824]\n",
      " [-0.4262354 ]]\n"
     ]
    },
    {
     "name": "stderr",
     "output_type": "stream",
     "text": [
      "\r",
      " 76%|██████████████████████████████████████████████████████████████████████████████████████████████████████████████████████████████▉                                        | 38/50 [14:29<04:07, 20.60s/it]"
     ]
    },
    {
     "name": "stdout",
     "output_type": "stream",
     "text": [
      "[-0.25215001 -0.38203492] [[-0.27032312]\n",
      " [-0.42216311]]\n"
     ]
    },
    {
     "name": "stderr",
     "output_type": "stream",
     "text": [
      "\r",
      " 78%|██████████████████████████████████████████████████████████████████████████████████████████████████████████████████████████████████▎                                    | 39/50 [14:52<03:53, 21.24s/it]"
     ]
    },
    {
     "name": "stdout",
     "output_type": "stream",
     "text": [
      "[-0.23323294 -0.37785694] [[-0.26826489]\n",
      " [-0.40704447]]\n"
     ]
    },
    {
     "name": "stderr",
     "output_type": "stream",
     "text": [
      "\r",
      " 80%|█████████████████████████████████████████████████████████████████████████████████████████████████████████████████████████████████████▌                                 | 40/50 [15:16<03:40, 22.07s/it]"
     ]
    },
    {
     "name": "stdout",
     "output_type": "stream",
     "text": [
      "[-0.21505503 -0.37156867] [[-0.28226467]\n",
      " [-0.40059325]]\n"
     ]
    },
    {
     "name": "stderr",
     "output_type": "stream",
     "text": [
      "\r",
      " 82%|████████████████████████████████████████████████████████████████████████████████████████████████████████████████████████████████████████▉                              | 41/50 [15:40<03:24, 22.69s/it]"
     ]
    },
    {
     "name": "stdout",
     "output_type": "stream",
     "text": [
      "[-0.19791272 -0.36341234] [[-0.20031066]\n",
      " [-0.39599051]]\n"
     ]
    },
    {
     "name": "stderr",
     "output_type": "stream",
     "text": [
      "\r",
      " 84%|████████████████████████████████████████████████████████████████████████████████████████████████████████████████████████████████████████████▎                          | 42/50 [16:06<03:08, 23.53s/it]"
     ]
    },
    {
     "name": "stdout",
     "output_type": "stream",
     "text": [
      "[-0.18203404 -0.3535874 ] [[-0.20123264]\n",
      " [-0.42231244]]\n"
     ]
    },
    {
     "name": "stderr",
     "output_type": "stream",
     "text": [
      "\r",
      " 86%|███████████████████████████████████████████████████████████████████████████████████████████████████████████████████████████████████████████████▌                       | 43/50 [16:30<02:46, 23.83s/it]"
     ]
    },
    {
     "name": "stdout",
     "output_type": "stream",
     "text": [
      "[-0.16766322 -0.34245375] [[-0.19332755]\n",
      " [-0.42534386]]\n"
     ]
    },
    {
     "name": "stderr",
     "output_type": "stream",
     "text": [
      "\r",
      " 88%|██████████████████████████████████████████████████████████████████████████████████████████████████████████████████████████████████████████████████▉                    | 44/50 [16:53<02:20, 23.41s/it]"
     ]
    },
    {
     "name": "stdout",
     "output_type": "stream",
     "text": [
      "[-0.15490573 -0.33008087] [[-0.20544998]\n",
      " [-0.39324154]]\n"
     ]
    },
    {
     "name": "stderr",
     "output_type": "stream",
     "text": [
      "\r",
      " 90%|██████████████████████████████████████████████████████████████████████████████████████████████████████████████████████████████████████████████████████▎                | 45/50 [17:16<01:57, 23.43s/it]"
     ]
    },
    {
     "name": "stdout",
     "output_type": "stream",
     "text": [
      "[-0.14393098 -0.31679923] [[-0.11010056]\n",
      " [-0.37775949]]\n"
     ]
    },
    {
     "name": "stderr",
     "output_type": "stream",
     "text": [
      "\r",
      " 92%|█████████████████████████████████████████████████████████████████████████████████████████████████████████████████████████████████████████████████████████▋             | 46/50 [17:41<01:35, 23.90s/it]"
     ]
    },
    {
     "name": "stdout",
     "output_type": "stream",
     "text": [
      "[-0.13481178 -0.30267974] [[-0.20340641]\n",
      " [-0.38543741]]\n"
     ]
    },
    {
     "name": "stderr",
     "output_type": "stream",
     "text": [
      "\r",
      " 94%|████████████████████████████████████████████████████████████████████████████████████████████████████████████████████████████████████████████████████████████▉          | 47/50 [18:06<01:12, 24.09s/it]"
     ]
    },
    {
     "name": "stdout",
     "output_type": "stream",
     "text": [
      "[-0.1276684  -0.28800902] [[-0.17593261]\n",
      " [-0.30480015]]\n"
     ]
    },
    {
     "name": "stderr",
     "output_type": "stream",
     "text": [
      "\r",
      " 96%|████████████████████████████████████████████████████████████████████████████████████████████████████████████████████████████████████████████████████████████████▎      | 48/50 [18:29<00:47, 23.87s/it]"
     ]
    },
    {
     "name": "stdout",
     "output_type": "stream",
     "text": [
      "[-0.12255456 -0.27283773] [[-0.15786333]\n",
      " [-0.34876686]]\n"
     ]
    },
    {
     "name": "stderr",
     "output_type": "stream",
     "text": [
      "\r",
      " 98%|███████████████████████████████████████████████████████████████████████████████████████████████████████████████████████████████████████████████████████████████████▋   | 49/50 [18:48<00:22, 22.50s/it]"
     ]
    },
    {
     "name": "stdout",
     "output_type": "stream",
     "text": [
      "[-0.11954664 -0.25732512] [[-0.12386031]\n",
      " [-0.31696429]]\n"
     ]
    },
    {
     "name": "stderr",
     "output_type": "stream",
     "text": [
      "100%|███████████████████████████████████████████████████████████████████████████████████████████████████████████████████████████████████████████████████████████████████████| 50/50 [19:09<00:00, 22.98s/it]"
     ]
    },
    {
     "name": "stdout",
     "output_type": "stream",
     "text": [
      "[-0.11870473 -0.24158785] [[-0.18732979]\n",
      " [-0.26963161]]\n"
     ]
    },
    {
     "name": "stderr",
     "output_type": "stream",
     "text": [
      "\n"
     ]
    },
    {
     "data": {
      "image/png": "[encoded data removed]",
      "text/plain": [
       "<Figure size 864x360 with 2 Axes>"
      ]
     },
     "metadata": {
      "needs_background": "light"
     },
     "output_type": "display_data"
    },
    {
     "data": {
      "text/plain": [
       "(array([-3.14159265, -3.01336438, -2.88513611, -2.75690784, -2.62867957,\n",
       "        -2.5004513 , -2.37222302, -2.24399475, -2.11576648, -1.98753821,\n",
       "        -1.85930994, -1.73108167, -1.60285339, -1.47462512, -1.34639685,\n",
       "        -1.21816858, -1.08994031, -0.96171204, -0.83348377, -0.70525549,\n",
       "        -0.57702722, -0.44879895, -0.32057068, -0.19234241, -0.06411414,\n",
       "         0.06411414,  0.19234241,  0.32057068,  0.44879895,  0.57702722,\n",
       "         0.70525549,  0.83348377,  0.96171204,  1.08994031,  1.21816858,\n",
       "         1.34639685,  1.47462512,  1.60285339,  1.73108167,  1.85930994,\n",
       "         1.98753821,  2.11576648,  2.24399475,  2.37222302,  2.5004513 ,\n",
       "         2.62867957,  2.75690784,  2.88513611,  3.01336438,  3.14159265]),\n",
       " [-0.11870472713393783,\n",
       "  -0.12007107601914019,\n",
       "  -0.12368954540356195,\n",
       "  -0.12956755535026176,\n",
       "  -0.13766352429857792,\n",
       "  -0.14790874753521593,\n",
       "  -0.16013533734757152,\n",
       "  -0.17414218620199196,\n",
       "  -0.18964732992611236,\n",
       "  -0.2063737152498421,\n",
       "  -0.2239308784959242,\n",
       "  -0.24199569304301938,\n",
       "  -0.2602028181653902,\n",
       "  -0.2782100040501209,\n",
       "  -0.2957317384320234,\n",
       "  -0.31249522771183963,\n",
       "  -0.3283278697246228,\n",
       "  -0.3429013002756742,\n",
       "  -0.35617333850829125,\n",
       "  -0.3679954658514967,\n",
       "  -0.37826906888995804,\n",
       "  -0.386805595438127,\n",
       "  -0.3936398934287572,\n",
       "  -0.3985461244932413,\n",
       "  -0.401447561767132,\n",
       "  -0.4022800483750163,\n",
       "  -0.40091786360984116,\n",
       "  -0.39723038087268503,\n",
       "  -0.39115330424776223,\n",
       "  -0.3826926062890017,\n",
       "  -0.3718838764111576,\n",
       "  -0.35889701459640067,\n",
       "  -0.3439410944214181,\n",
       "  -0.3273462713270213,\n",
       "  -0.30941379962639437,\n",
       "  -0.29064189107613553,\n",
       "  -0.27139584236237163,\n",
       "  -0.25215001154562794,\n",
       "  -0.23323294453521162,\n",
       "  -0.21505503241950524,\n",
       "  -0.19791271551029024,\n",
       "  -0.18203403536297705,\n",
       "  -0.16766322279869497,\n",
       "  -0.15490573476561037,\n",
       "  -0.14393098104748647,\n",
       "  -0.13481177549943524,\n",
       "  -0.12766839914191652,\n",
       "  -0.12255456159294024,\n",
       "  -0.11954664192154779,\n",
       "  -0.11870472713393783],\n",
       " [-0.24158785396834728,\n",
       "  -0.22572200774392687,\n",
       "  -0.20993240013103742,\n",
       "  -0.1944113616002101,\n",
       "  -0.17936758753579274,\n",
       "  -0.16509479980279412,\n",
       "  -0.1518436539772671,\n",
       "  -0.139922952650408,\n",
       "  -0.12960659371284922,\n",
       "  -0.12115620950482676,\n",
       "  -0.11475577421404973,\n",
       "  -0.11055742493287996,\n",
       "  -0.1086425780156803,\n",
       "  -0.10903752829928298,\n",
       "  -0.11171999129943366,\n",
       "  -0.11662096608325948,\n",
       "  -0.12364704676198343,\n",
       "  -0.13264273592721126,\n",
       "  -0.1434780024407484,\n",
       "  -0.1559854099840338,\n",
       "  -0.16999380403221617,\n",
       "  -0.18528576242045489,\n",
       "  -0.2017086948067394,\n",
       "  -0.2189972290337776,\n",
       "  -0.23692051540769204,\n",
       "  -0.25523505095437593,\n",
       "  -0.2736340726764283,\n",
       "  -0.29175815215703077,\n",
       "  -0.3092326536354397,\n",
       "  -0.32567610786578954,\n",
       "  -0.3406714575126002,\n",
       "  -0.3538667697039972,\n",
       "  -0.36491491482048094,\n",
       "  -0.3735828053417867,\n",
       "  -0.3796116959706649,\n",
       "  -0.3830335280904847,\n",
       "  -0.38377914752803377,\n",
       "  -0.3820349176575026,\n",
       "  -0.3778569359024465,\n",
       "  -0.37156867379290226,\n",
       "  -0.36341234096824193,\n",
       "  -0.35358739515574145,\n",
       "  -0.34245375429652036,\n",
       "  -0.330080871941002,\n",
       "  -0.3167992324537382,\n",
       "  -0.3026797353615487,\n",
       "  -0.2880090249122034,\n",
       "  -0.27283773493487434,\n",
       "  -0.2573251198230539,\n",
       "  -0.24158785396834728],\n",
       " [-0.17378456849873855,\n",
       "  -0.1491577695484486,\n",
       "  -0.16515558925167748,\n",
       "  -0.1439264802961895,\n",
       "  -0.147332308491977,\n",
       "  -0.24646869552953188,\n",
       "  -0.22057525389479676,\n",
       "  -0.17709169432927627,\n",
       "  -0.2762105669413377,\n",
       "  -0.24087530711540914,\n",
       "  -0.2876122793592387,\n",
       "  -0.28162137804500764,\n",
       "  -0.3055350431356154,\n",
       "  -0.34909716626008747,\n",
       "  -0.3386276736055981,\n",
       "  -0.3562591418543823,\n",
       "  -0.3625480143269567,\n",
       "  -0.42940688972186164,\n",
       "  -0.43269994702417813,\n",
       "  -0.41922632604491944,\n",
       "  -0.4277894517934382,\n",
       "  -0.40621326893151244,\n",
       "  -0.3869086634222981,\n",
       "  -0.5229470680439,\n",
       "  -0.4974835261965243,\n",
       "  -0.43489999706507526,\n",
       "  -0.40749948804351765,\n",
       "  -0.4730144612675844,\n",
       "  -0.42527409177781056,\n",
       "  -0.3722039509922756,\n",
       "  -0.3731619532516416,\n",
       "  -0.36935712094760725,\n",
       "  -0.40298789149941716,\n",
       "  -0.3575499946506903,\n",
       "  -0.37087216484270513,\n",
       "  -0.3202098864499471,\n",
       "  -0.2652382416532737,\n",
       "  -0.27032312079541915,\n",
       "  -0.2682648938998393,\n",
       "  -0.2822646710034377,\n",
       "  -0.2003106598082475,\n",
       "  -0.20123263502085856,\n",
       "  -0.1933275505779203,\n",
       "  -0.20544997508844587,\n",
       "  -0.11010056036229697,\n",
       "  -0.20340641489549824,\n",
       "  -0.17593260741676628,\n",
       "  -0.1578633253386634,\n",
       "  -0.12386031125579962,\n",
       "  -0.187329792427686],\n",
       " [-0.37699223627424444,\n",
       "  -0.30899568135387107,\n",
       "  -0.26437035750312066,\n",
       "  -0.2559852865241928,\n",
       "  -0.19445223263393221,\n",
       "  -0.2106942982314624,\n",
       "  -0.17629556635092303,\n",
       "  -0.20805102202109926,\n",
       "  -0.16122825160541102,\n",
       "  -0.11815088467994551,\n",
       "  -0.1413438771989394,\n",
       "  -0.13305677282348743,\n",
       "  -0.11660653178379461,\n",
       "  -0.17293904573596453,\n",
       "  -0.13506954008324826,\n",
       "  -0.14483937420983092,\n",
       "  -0.18382373935879096,\n",
       "  -0.23015908662912402,\n",
       "  -0.19918116701760044,\n",
       "  -0.20406686297828877,\n",
       "  -0.18821960424563722,\n",
       "  -0.2763580841159388,\n",
       "  -0.2382709306066806,\n",
       "  -0.27669297971166407,\n",
       "  -0.26360019438132165,\n",
       "  -0.2934058923006808,\n",
       "  -0.30291017064549763,\n",
       "  -0.3260162244907644,\n",
       "  -0.3418029855964904,\n",
       "  -0.3377727162121118,\n",
       "  -0.3819696677561298,\n",
       "  -0.3680343107054804,\n",
       "  -0.3769404814773117,\n",
       "  -0.4060158486718568,\n",
       "  -0.39290862080904243,\n",
       "  -0.43474062180014816,\n",
       "  -0.4262353960387587,\n",
       "  -0.42216310711670657,\n",
       "  -0.4070444727230221,\n",
       "  -0.4005932476040577,\n",
       "  -0.3959905120941711,\n",
       "  -0.42231243807179875,\n",
       "  -0.42534385758524423,\n",
       "  -0.39324154456914706,\n",
       "  -0.3777594852969913,\n",
       "  -0.38543741242429747,\n",
       "  -0.3048001530676636,\n",
       "  -0.34876685639000204,\n",
       "  -0.31696429079602284,\n",
       "  -0.26963160742788383])"
      ]
     },
     "execution_count": 4,
     "metadata": {},
     "output_type": "execute_result"
    }
   ],
   "source": [
    "plot_grad_loss_beta(agent_dist, sigma, q, f, savefig=\"figs/grad_dl_dbeta_10types.pdf\")"
   ]
  },
  {
   "cell_type": "code",
   "execution_count": null,
   "id": "79026bdb",
   "metadata": {},
   "outputs": [],
   "source": []
  }
 ],
 "metadata": {
  "kernelspec": {
   "display_name": "Python 3 (ipykernel)",
   "language": "python",
   "name": "python3"
  },
  "language_info": {
   "codemirror_mode": {
    "name": "ipython",
    "version": 3
   },
   "file_extension": ".py",
   "mimetype": "text/x-python",
   "name": "python",
   "nbconvert_exporter": "python",
   "pygments_lexer": "ipython3",
   "version": "3.8.12"
  }
 },
 "nbformat": 4,
 "nbformat_minor": 5
}
