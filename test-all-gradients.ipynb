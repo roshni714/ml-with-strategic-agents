{
 "cells": [
  {
   "cell_type": "code",
   "execution_count": 1,
   "id": "743c17d3",
   "metadata": {},
   "outputs": [],
   "source": [
    "from agent import Agent\n",
    "from agent_distribution import AgentDistribution\n",
    "from utils import fixed_point_interpolation_true_distribution, compute_score_bounds, compute_continuity_noise\n",
    "from reparametrized_gradient import plot_grad_pi_theta, plot_grad_pi_s, plot_grad_s_theta, plot_grad_loss_theta\n",
    "from gradient_expected import plot_grad_loss_s\n",
    "\n",
    "\n",
    "import matplotlib.pyplot as plt\n",
    "import numpy as np\n",
    "from scipy.stats import bernoulli, norm\n",
    "import tqdm\n",
    "import numpy as np\n"
   ]
  },
  {
   "cell_type": "code",
   "execution_count": 2,
   "id": "8fae214a",
   "metadata": {},
   "outputs": [
    {
     "name": "stdout",
     "output_type": "stream",
     "text": [
      "Computing fixed points...\n"
     ]
    },
    {
     "name": "stderr",
     "output_type": "stream",
     "text": [
      "100%|███████████████████████████████████████████████████████████████████████████████████████████████████████████████████████████████████████████████████████████████████████| 50/50 [00:06<00:00,  8.08it/s]\n"
     ]
    }
   ],
   "source": [
    "agent_dist = AgentDistribution(n=10000, n_types=1)\n",
    "sigma = compute_continuity_noise(agent_dist) + 0.05\n",
    "q = 0.7\n",
    "f = fixed_point_interpolation_true_distribution(agent_dist, sigma, 0.7, plot=False, savefig=None)"
   ]
  },
  {
   "cell_type": "code",
   "execution_count": null,
   "id": "a90d5cba",
   "metadata": {},
   "outputs": [],
   "source": [
    "plot_grad_pi_s(agent_dist, sigma, f)"
   ]
  },
  {
   "cell_type": "code",
   "execution_count": null,
   "id": "535bc9ad",
   "metadata": {},
   "outputs": [],
   "source": [
    "plot_grad_pi_theta(agent_dist, sigma, f)"
   ]
  },
  {
   "cell_type": "code",
   "execution_count": null,
   "id": "638a09dc",
   "metadata": {},
   "outputs": [],
   "source": [
    "plot_grad_loss_theta(agent_dist, sigma, q, f)"
   ]
  },
  {
   "cell_type": "code",
   "execution_count": null,
   "id": "78e1528c",
   "metadata": {},
   "outputs": [],
   "source": [
    "plot_grad_loss_s(agent_dist, sigma, q, f)"
   ]
  },
  {
   "cell_type": "code",
   "execution_count": null,
   "id": "9e04c92d",
   "metadata": {},
   "outputs": [],
   "source": [
    "plot_grad_s_theta(agent_dist, sigma, f)"
   ]
  }
 ],
 "metadata": {
  "kernelspec": {
   "display_name": "Python 3 (ipykernel)",
   "language": "python",
   "name": "python3"
  },
  "language_info": {
   "codemirror_mode": {
    "name": "ipython",
    "version": 3
   },
   "file_extension": ".py",
   "mimetype": "text/x-python",
   "name": "python",
   "nbconvert_exporter": "python",
   "pygments_lexer": "ipython3",
   "version": "3.8.12"
  }
 },
 "nbformat": 4,
 "nbformat_minor": 5
}
