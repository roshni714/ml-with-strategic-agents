{
 "cells": [
  {
   "cell_type": "code",
   "execution_count": 1,
   "id": "dbf19d0a",
   "metadata": {},
   "outputs": [],
   "source": [
    "from scipy.stats import norm, gaussian_kde, bernoulli\n",
    "from scipy.optimize import basinhopping, newton\n",
    "import numpy as np\n",
    "import matplotlib.pyplot as plt"
   ]
  },
  {
   "cell_type": "code",
   "execution_count": 2,
   "id": "7bae3377",
   "metadata": {},
   "outputs": [],
   "source": [
    "def generate_agent_distribution(n):\n",
    "    eta1 = np.random.uniform(0.01, 1., n).reshape(n, 1) #should change this to n x2 x1 so dont have to do as much reshaping later\n",
    "    eta2 = np.random.uniform(0.01, 1., n).reshape(n, 1)\n",
    "    etas = np.concatenate((eta1, eta2), axis=1)\n",
    "    gamma1 = np.ones((n, 1))\n",
    "    gamma2 = np.ones((n, 1))\n",
    "    gammas = np.concatenate((gamma1, gamma2), axis=1)\n",
    "    return etas, gammas\n",
    "\n",
    "def compute_score_bounds(beta):\n",
    "    x_box = [np.array([0., 1.]), np.array([1., 0.]), np.array([0., 0.]), np.array([1., 1.])]\n",
    "    scores = [np.matmul(np.transpose(beta),x) for x in x_box]\n",
    "    return min(scores), max(scores)\n",
    "\n",
    "def func_derivative_utility(beta, s, eta, gamma, sigma):\n",
    "    def f(x):\n",
    "        d = x.reshape(2, 1) - eta.reshape(2, 1)\n",
    "        cost_of_gaming= -2 *np.matmul(np.transpose(d), np.diag(gamma))\n",
    "        score = np.matmul(np.transpose(beta), x).item()\n",
    "        allocation = norm.pdf(s - score, loc=0., scale=sigma) * np.transpose(beta)\n",
    "        val = cost_of_gaming + allocation\n",
    "        return (cost_of_gaming + allocation).flatten()\n",
    "    return f\n",
    "\n",
    "def agent_best_response_mapping(beta, s, eta, gamma, sigma):\n",
    "    x0 = np.array([0.5, 0.5])\n",
    "    val = newton(func_derivative_utility(beta, s, eta, gamma, sigma), x0=x0,  maxiter=5000)\n",
    "    val = np.clip(val, a_min=0., a_max=1.)\n",
    "    return val\n",
    "\n",
    "def compute_min_noise(gammas):\n",
    "    min_eigenvalue = [min(gamma) for gamma in gammas]\n",
    "    min_min_eigenvalue = min(min_eigenvalue)\n",
    "    return np.sqrt(1/(2 * min_min_eigenvalue * np.sqrt(2 * np.pi * np.e)))\n",
    "\n",
    "def quantile_best_response_distribution(beta, s, etas, gammas, sigma, score_bounds, q):\n",
    "    agent_best_responses = []\n",
    "    for i in range(len(etas)):\n",
    "        agent_best_responses.append(agent_best_response_mapping(beta, s, etas[i], gammas[i], sigma))\n",
    "    scores = [np.matmul(np.transpose(beta), x) for x in agent_best_responses]\n",
    "    noises = norm.rvs(loc=0., scale=sigma, size=len(etas)).reshape(etas.shape[0], 1)\n",
    "    min_score, max_score = score_bounds\n",
    "    noisy_scores = np.clip(scores + noises, a_min=min_score, a_max=max_score)\n",
    "    noisy_quantile = np.quantile(noisy_scores, q)\n",
    "    return noisy_quantile\n",
    "\n",
    "def quantile_fixed_point(beta, etas, gammas, sigma, score_bounds, q):\n",
    "    thresholds = np.linspace(score_bounds[0], score_bounds[1], 50)\n",
    "    quantile_best_responses = [quantile_best_response_distribution(beta, s, etas, gammas, sigma, score_bounds, q) for s in thresholds]\n",
    "    br = np.array(quantile_best_responses).reshape(50, 1)\n",
    "    noisy_fixed_point_idx = np.argmin(np.abs(br - thresholds))\n",
    "    noisy_fixed_point = thresholds[noisy_fixed_point_idx]\n",
    "    \n",
    "    # should actually make sure that the noise being added is consistent everywhere...\n",
    "    agent_best_responses = []\n",
    "    for i in range(len(etas)):\n",
    "        agent_best_responses.append(agent_best_response_mapping(beta, noisy_fixed_point, etas[i], gammas[i], sigma))\n",
    "    scores = [np.matmul(np.transpose(beta), x) for x in agent_best_responses]\n",
    "    noises = norm.rvs(loc=0., scale=sigma, size=len(etas)).reshape(etas.shape[0], 1)\n",
    "    min_score, max_score = score_bounds\n",
    "    noisy_scores = np.clip(scores + noises, a_min=min_score, a_max=max_score)\n",
    "    \n",
    "    return noisy_fixed_point.item(), noisy_scores\n",
    "\n",
    "def decision_maker_loss(treatments, etas, gammas):\n",
    "    true_beta = np.array([np.sin(0.5), np.cos(0.5)])\n",
    "    \n",
    "    #eta is 10 x 2\n",
    "    #beta is 2 x 1\n",
    "    true_scores = []\n",
    "    for i in range(len(etas)):\n",
    "        true_scores.append(np.matmul(true_beta, etas[i]).item())\n",
    "    true_scores = np.array(true_scores).reshape(etas.shape[0], 1)\n",
    "    loss_vector = (treatments - true_scores)  ** 2\n",
    "    return loss_vector"
   ]
  },
  {
   "cell_type": "code",
   "execution_count": 3,
   "id": "4bc77241",
   "metadata": {},
   "outputs": [],
   "source": [
    "def perturb_beta_experiment(beta, s_beta, etas, gammas, sigma, score_bounds, perturbation_size=0.01):\n",
    "    perturbations = (2 * bernoulli.rvs(p=0.5, size=etas.shape[0] * etas.shape[1]).reshape(etas.shape) -1 ) * perturbation_size\n",
    "    scores = []\n",
    "    for i in range(len(etas)):\n",
    "        beta_perturbed = beta + perturbations[i].reshape(etas.shape[1], 1)\n",
    "        #should I project onto unit sphere??\n",
    "        norm_beta_perturbed = np.sqrt(np.sum(beta_perturbed ** 2))\n",
    "        beta_perturbed /= norm_beta_perturbed\n",
    "        agent_best_response = agent_best_response_mapping(beta_perturbed, s_beta, etas[i], gammas[i], sigma)\n",
    "        scores.append(np.matmul(np.transpose(beta_perturbed), agent_best_response))\n",
    "    \n",
    "    noise = norm.rvs(0., scale=sigma, size=etas.shape[0]).reshape(etas.shape[0], 1)\n",
    "    noisy_scores = np.clip(scores + noise, a_min=score_bounds[0], a_max=score_bounds[1])\n",
    "    treatments = (noisy_scores >= s_beta).reshape(etas.shape[0], 1)\n",
    "    \n",
    "    loss_vector = decision_maker_loss(treatments, etas, gammas)\n",
    "    \n",
    "    Q = np.matmul(perturbations.T, perturbations)\n",
    "    gamma_loss_beta = np.linalg.solve(Q, np.matmul(perturbations.T, loss_vector))\n",
    "    gamma_pi_beta = np.linalg.solve(Q, np.matmul(perturbations.T, treatments))\n",
    "    \n",
    "    return gamma_loss_beta, gamma_pi_beta\n",
    "\n",
    "\n",
    "def perturb_s_beta_experiment(beta, s_beta, etas, gammas, sigma, score_bounds, perturbation_size=0.01):\n",
    "    perturbations = (2 * bernoulli.rvs(p=0.5, size=etas.shape[0]).reshape(etas.shape[0], 1) -1 ) * perturbation_size\n",
    "    scores = []\n",
    "    for i in range(len(etas)):\n",
    "        s_beta_perturbed = s_beta + perturbations[i]\n",
    "        agent_best_response = agent_best_response_mapping(beta, s_beta_perturbed, etas[i], gammas[i], sigma)\n",
    "        scores.append((np.matmul(np.transpose(beta), agent_best_response) + s_beta_perturbed).item())\n",
    "    \n",
    "    \n",
    "    scores = np.array(scores).reshape(etas.shape[0], 1)\n",
    "    noise = norm.rvs(0., scale=sigma, size=etas.shape[0]).reshape(etas.shape[0], 1)\n",
    "    noisy_scores = np.clip(scores + noise, a_min=score_bounds[0], a_max=score_bounds[1])\n",
    "\n",
    "    treatments = (noisy_scores >= s_beta).reshape(etas.shape[0], 1)\n",
    "    \n",
    "    loss_vector = decision_maker_loss(treatments, etas, gammas)\n",
    "    \n",
    "    Q = np.matmul(perturbations.T, perturbations)\n",
    "    gamma_loss_s = Q/np.matmul(perturbations.T, loss_vector)\n",
    "    gamma_pi_s = Q/np.matmul(perturbations.T, treatments)\n",
    "    return gamma_loss_s, gamma_pi_s"
   ]
  },
  {
   "cell_type": "code",
   "execution_count": 4,
   "id": "e4bbec5a",
   "metadata": {},
   "outputs": [],
   "source": [
    "def density_estimate(arr, x):\n",
    "    kernel = gaussian_kde(arr.flatten())\n",
    "    return kernel(x)"
   ]
  },
  {
   "cell_type": "code",
   "execution_count": 12,
   "id": "9d275d49",
   "metadata": {},
   "outputs": [],
   "source": [
    "def run_full_game(q, maxiter, learning_rate):\n",
    "    beta = np.array([np.sin(0.5), np.cos(0.5)]).reshape(2, 1)\n",
    "    \n",
    "    losses = []\n",
    "    \n",
    "    for i in range(maxiter):\n",
    "        etas, gammas = generate_agent_distribution(50)\n",
    "        sigma = compute_min_noise(gammas)\n",
    "        score_bounds = compute_score_bounds(beta)\n",
    "        s_beta, noisy_scores = quantile_fixed_point(beta, etas, gammas, sigma, score_bounds, q)\n",
    "\n",
    "        \n",
    "#         fake_s_beta = 0.8\n",
    "#         fake_noisy_scores = np.random.uniform(size=len(etas))\n",
    "#         print(fake_s_beta)\n",
    "#         print(fake_noisy_scores)\n",
    "        treatments = (noisy_scores >= s_beta).reshape(etas.shape[0], 1)\n",
    "        loss = np.sqrt(np.sum(decision_maker_loss(treatments, etas, gammas)))\n",
    "        deriv_loss_beta, deriv_pi_beta = perturb_beta_experiment(beta, s_beta, etas, gammas, sigma, score_bounds)\n",
    "        deriv_loss_s, deriv_pi_s = perturb_s_beta_experiment(beta, s_beta, etas, gammas, sigma, score_bounds)\n",
    "        \n",
    "        density_value = density_estimate(noisy_scores, s_beta)\n",
    "        deriv_s_beta = (1/(density_value + deriv_pi_s) ) * deriv_pi_beta\n",
    "\n",
    "        total_deriv = deriv_loss_beta + deriv_loss_s * deriv_s_beta\n",
    "        new_beta = beta - learning_rate * total_deriv\n",
    "\n",
    "        norm_new_beta = np.sqrt(np.sum(new_beta ** 2))\n",
    "        beta = new_beta/norm_new_beta\n",
    "\n",
    "        \n",
    "        losses.append(loss)\n",
    "    \n",
    "    return losses, beta\n",
    "        \n",
    "        \n",
    "        \n",
    "        "
   ]
  },
  {
   "cell_type": "code",
   "execution_count": 13,
   "id": "4649ff53",
   "metadata": {},
   "outputs": [
    {
     "name": "stdout",
     "output_type": "stream",
     "text": [
      "1.0800676718222133\n",
      "[[0.51235253]\n",
      " [0.66802356]\n",
      " [1.0110987 ]\n",
      " [0.20948312]\n",
      " [1.18671565]\n",
      " [1.3570081 ]\n",
      " [0.87276153]\n",
      " [0.92481302]\n",
      " [1.14764176]\n",
      " [1.16765284]\n",
      " [1.29212796]\n",
      " [1.23024029]\n",
      " [0.90207835]\n",
      " [1.33385016]\n",
      " [1.10670177]\n",
      " [1.3570081 ]\n",
      " [0.69822936]\n",
      " [1.04054983]\n",
      " [0.3816678 ]\n",
      " [0.38753752]\n",
      " [0.82741882]\n",
      " [0.78660469]\n",
      " [0.4038032 ]\n",
      " [1.04137569]\n",
      " [0.44410662]\n",
      " [1.06370743]\n",
      " [0.60739814]\n",
      " [1.3570081 ]\n",
      " [1.3570081 ]\n",
      " [1.07823114]\n",
      " [0.8285898 ]\n",
      " [0.94196092]\n",
      " [0.98487841]\n",
      " [1.30505296]\n",
      " [1.3570081 ]\n",
      " [1.08285467]\n",
      " [1.11615646]\n",
      " [0.        ]\n",
      " [0.72349012]\n",
      " [1.30515958]\n",
      " [1.3570081 ]\n",
      " [1.3570081 ]\n",
      " [1.3570081 ]\n",
      " [1.3570081 ]\n",
      " [1.21511698]\n",
      " [1.31426449]\n",
      " [1.3570081 ]\n",
      " [1.3570081 ]\n",
      " [1.3570081 ]\n",
      " [0.40288373]]\n",
      "0.9698704728879995\n",
      "[[1.20327602]\n",
      " [0.56712635]\n",
      " [0.62842926]\n",
      " [0.5014165 ]\n",
      " [0.5710245 ]\n",
      " [1.21933069]\n",
      " [0.82707691]\n",
      " [1.35781866]\n",
      " [0.81339583]\n",
      " [0.73776887]\n",
      " [1.35781866]\n",
      " [1.35781866]\n",
      " [0.        ]\n",
      " [1.05297643]\n",
      " [0.77755944]\n",
      " [0.20557955]\n",
      " [1.33015244]\n",
      " [0.6466941 ]\n",
      " [0.67686658]\n",
      " [0.80622161]\n",
      " [1.35781866]\n",
      " [0.76581873]\n",
      " [1.11677106]\n",
      " [1.35781866]\n",
      " [0.95342308]\n",
      " [0.98071811]\n",
      " [0.62623896]\n",
      " [0.95648725]\n",
      " [1.00256558]\n",
      " [1.23970108]\n",
      " [0.76171465]\n",
      " [1.35781866]\n",
      " [0.44432903]\n",
      " [0.6411019 ]\n",
      " [0.84021801]\n",
      " [1.24654155]\n",
      " [0.        ]\n",
      " [0.694828  ]\n",
      " [1.29100838]\n",
      " [0.91472802]\n",
      " [0.95460384]\n",
      " [1.03703697]\n",
      " [0.43202666]\n",
      " [1.05729341]\n",
      " [1.33482015]\n",
      " [1.27809526]\n",
      " [1.22078814]\n",
      " [1.24954103]\n",
      " [0.82992808]\n",
      " [1.35781866]]\n"
     ]
    },
    {
     "ename": "KeyboardInterrupt",
     "evalue": "",
     "output_type": "error",
     "traceback": [
      "\u001b[0;31m---------------------------------------------------------------------------\u001b[0m",
      "\u001b[0;31mKeyboardInterrupt\u001b[0m                         Traceback (most recent call last)",
      "\u001b[0;32m/tmp/ipykernel_54836/1216381948.py\u001b[0m in \u001b[0;36m<module>\u001b[0;34m\u001b[0m\n\u001b[1;32m      1\u001b[0m \u001b[0msigma\u001b[0m \u001b[0;34m=\u001b[0m \u001b[0mcompute_min_noise\u001b[0m\u001b[0;34m(\u001b[0m\u001b[0mgammas\u001b[0m\u001b[0;34m)\u001b[0m\u001b[0;34m\u001b[0m\u001b[0;34m\u001b[0m\u001b[0m\n\u001b[0;32m----> 2\u001b[0;31m \u001b[0mlosses\u001b[0m\u001b[0;34m,\u001b[0m \u001b[0mbeta\u001b[0m \u001b[0;34m=\u001b[0m \u001b[0mrun_full_game\u001b[0m\u001b[0;34m(\u001b[0m\u001b[0mq\u001b[0m\u001b[0;34m=\u001b[0m\u001b[0;36m0.5\u001b[0m\u001b[0;34m,\u001b[0m \u001b[0mmaxiter\u001b[0m\u001b[0;34m=\u001b[0m\u001b[0;36m10\u001b[0m\u001b[0;34m,\u001b[0m \u001b[0mlearning_rate\u001b[0m\u001b[0;34m=\u001b[0m\u001b[0;36m0.001\u001b[0m\u001b[0;34m)\u001b[0m\u001b[0;34m\u001b[0m\u001b[0;34m\u001b[0m\u001b[0m\n\u001b[0m",
      "\u001b[0;32m/tmp/ipykernel_54836/3746979183.py\u001b[0m in \u001b[0;36mrun_full_game\u001b[0;34m(q, maxiter, learning_rate)\u001b[0m\n\u001b[1;32m      8\u001b[0m         \u001b[0msigma\u001b[0m \u001b[0;34m=\u001b[0m \u001b[0mcompute_min_noise\u001b[0m\u001b[0;34m(\u001b[0m\u001b[0mgammas\u001b[0m\u001b[0;34m)\u001b[0m\u001b[0;34m\u001b[0m\u001b[0;34m\u001b[0m\u001b[0m\n\u001b[1;32m      9\u001b[0m         \u001b[0mscore_bounds\u001b[0m \u001b[0;34m=\u001b[0m \u001b[0mcompute_score_bounds\u001b[0m\u001b[0;34m(\u001b[0m\u001b[0mbeta\u001b[0m\u001b[0;34m)\u001b[0m\u001b[0;34m\u001b[0m\u001b[0;34m\u001b[0m\u001b[0m\n\u001b[0;32m---> 10\u001b[0;31m         \u001b[0ms_beta\u001b[0m\u001b[0;34m,\u001b[0m \u001b[0mnoisy_scores\u001b[0m \u001b[0;34m=\u001b[0m \u001b[0mquantile_fixed_point\u001b[0m\u001b[0;34m(\u001b[0m\u001b[0mbeta\u001b[0m\u001b[0;34m,\u001b[0m \u001b[0metas\u001b[0m\u001b[0;34m,\u001b[0m \u001b[0mgammas\u001b[0m\u001b[0;34m,\u001b[0m \u001b[0msigma\u001b[0m\u001b[0;34m,\u001b[0m \u001b[0mscore_bounds\u001b[0m\u001b[0;34m,\u001b[0m \u001b[0mq\u001b[0m\u001b[0;34m)\u001b[0m\u001b[0;34m\u001b[0m\u001b[0;34m\u001b[0m\u001b[0m\n\u001b[0m\u001b[1;32m     11\u001b[0m         \u001b[0mprint\u001b[0m\u001b[0;34m(\u001b[0m\u001b[0ms_beta\u001b[0m\u001b[0;34m)\u001b[0m\u001b[0;34m\u001b[0m\u001b[0;34m\u001b[0m\u001b[0m\n\u001b[1;32m     12\u001b[0m         \u001b[0mprint\u001b[0m\u001b[0;34m(\u001b[0m\u001b[0mnoisy_scores\u001b[0m\u001b[0;34m)\u001b[0m\u001b[0;34m\u001b[0m\u001b[0;34m\u001b[0m\u001b[0m\n",
      "\u001b[0;32m/tmp/ipykernel_54836/2551273234.py\u001b[0m in \u001b[0;36mquantile_fixed_point\u001b[0;34m(beta, etas, gammas, sigma, score_bounds, q)\u001b[0m\n\u001b[1;32m     47\u001b[0m \u001b[0;32mdef\u001b[0m \u001b[0mquantile_fixed_point\u001b[0m\u001b[0;34m(\u001b[0m\u001b[0mbeta\u001b[0m\u001b[0;34m,\u001b[0m \u001b[0metas\u001b[0m\u001b[0;34m,\u001b[0m \u001b[0mgammas\u001b[0m\u001b[0;34m,\u001b[0m \u001b[0msigma\u001b[0m\u001b[0;34m,\u001b[0m \u001b[0mscore_bounds\u001b[0m\u001b[0;34m,\u001b[0m \u001b[0mq\u001b[0m\u001b[0;34m)\u001b[0m\u001b[0;34m:\u001b[0m\u001b[0;34m\u001b[0m\u001b[0;34m\u001b[0m\u001b[0m\n\u001b[1;32m     48\u001b[0m     \u001b[0mthresholds\u001b[0m \u001b[0;34m=\u001b[0m \u001b[0mnp\u001b[0m\u001b[0;34m.\u001b[0m\u001b[0mlinspace\u001b[0m\u001b[0;34m(\u001b[0m\u001b[0mscore_bounds\u001b[0m\u001b[0;34m[\u001b[0m\u001b[0;36m0\u001b[0m\u001b[0;34m]\u001b[0m\u001b[0;34m,\u001b[0m \u001b[0mscore_bounds\u001b[0m\u001b[0;34m[\u001b[0m\u001b[0;36m1\u001b[0m\u001b[0;34m]\u001b[0m\u001b[0;34m,\u001b[0m \u001b[0;36m50\u001b[0m\u001b[0;34m)\u001b[0m\u001b[0;34m\u001b[0m\u001b[0;34m\u001b[0m\u001b[0m\n\u001b[0;32m---> 49\u001b[0;31m     \u001b[0mquantile_best_responses\u001b[0m \u001b[0;34m=\u001b[0m \u001b[0;34m[\u001b[0m\u001b[0mquantile_best_response_distribution\u001b[0m\u001b[0;34m(\u001b[0m\u001b[0mbeta\u001b[0m\u001b[0;34m,\u001b[0m \u001b[0ms\u001b[0m\u001b[0;34m,\u001b[0m \u001b[0metas\u001b[0m\u001b[0;34m,\u001b[0m \u001b[0mgammas\u001b[0m\u001b[0;34m,\u001b[0m \u001b[0msigma\u001b[0m\u001b[0;34m,\u001b[0m \u001b[0mscore_bounds\u001b[0m\u001b[0;34m,\u001b[0m \u001b[0mq\u001b[0m\u001b[0;34m)\u001b[0m \u001b[0;32mfor\u001b[0m \u001b[0ms\u001b[0m \u001b[0;32min\u001b[0m \u001b[0mthresholds\u001b[0m\u001b[0;34m]\u001b[0m\u001b[0;34m\u001b[0m\u001b[0;34m\u001b[0m\u001b[0m\n\u001b[0m\u001b[1;32m     50\u001b[0m     \u001b[0mbr\u001b[0m \u001b[0;34m=\u001b[0m \u001b[0mnp\u001b[0m\u001b[0;34m.\u001b[0m\u001b[0marray\u001b[0m\u001b[0;34m(\u001b[0m\u001b[0mquantile_best_responses\u001b[0m\u001b[0;34m)\u001b[0m\u001b[0;34m.\u001b[0m\u001b[0mreshape\u001b[0m\u001b[0;34m(\u001b[0m\u001b[0;36m50\u001b[0m\u001b[0;34m,\u001b[0m \u001b[0;36m1\u001b[0m\u001b[0;34m)\u001b[0m\u001b[0;34m\u001b[0m\u001b[0;34m\u001b[0m\u001b[0m\n\u001b[1;32m     51\u001b[0m     \u001b[0mnoisy_fixed_point_idx\u001b[0m \u001b[0;34m=\u001b[0m \u001b[0mnp\u001b[0m\u001b[0;34m.\u001b[0m\u001b[0margmin\u001b[0m\u001b[0;34m(\u001b[0m\u001b[0mnp\u001b[0m\u001b[0;34m.\u001b[0m\u001b[0mabs\u001b[0m\u001b[0;34m(\u001b[0m\u001b[0mbr\u001b[0m \u001b[0;34m-\u001b[0m \u001b[0mthresholds\u001b[0m\u001b[0;34m)\u001b[0m\u001b[0;34m)\u001b[0m\u001b[0;34m\u001b[0m\u001b[0;34m\u001b[0m\u001b[0m\n",
      "\u001b[0;32m/tmp/ipykernel_54836/2551273234.py\u001b[0m in \u001b[0;36m<listcomp>\u001b[0;34m(.0)\u001b[0m\n\u001b[1;32m     47\u001b[0m \u001b[0;32mdef\u001b[0m \u001b[0mquantile_fixed_point\u001b[0m\u001b[0;34m(\u001b[0m\u001b[0mbeta\u001b[0m\u001b[0;34m,\u001b[0m \u001b[0metas\u001b[0m\u001b[0;34m,\u001b[0m \u001b[0mgammas\u001b[0m\u001b[0;34m,\u001b[0m \u001b[0msigma\u001b[0m\u001b[0;34m,\u001b[0m \u001b[0mscore_bounds\u001b[0m\u001b[0;34m,\u001b[0m \u001b[0mq\u001b[0m\u001b[0;34m)\u001b[0m\u001b[0;34m:\u001b[0m\u001b[0;34m\u001b[0m\u001b[0;34m\u001b[0m\u001b[0m\n\u001b[1;32m     48\u001b[0m     \u001b[0mthresholds\u001b[0m \u001b[0;34m=\u001b[0m \u001b[0mnp\u001b[0m\u001b[0;34m.\u001b[0m\u001b[0mlinspace\u001b[0m\u001b[0;34m(\u001b[0m\u001b[0mscore_bounds\u001b[0m\u001b[0;34m[\u001b[0m\u001b[0;36m0\u001b[0m\u001b[0;34m]\u001b[0m\u001b[0;34m,\u001b[0m \u001b[0mscore_bounds\u001b[0m\u001b[0;34m[\u001b[0m\u001b[0;36m1\u001b[0m\u001b[0;34m]\u001b[0m\u001b[0;34m,\u001b[0m \u001b[0;36m50\u001b[0m\u001b[0;34m)\u001b[0m\u001b[0;34m\u001b[0m\u001b[0;34m\u001b[0m\u001b[0m\n\u001b[0;32m---> 49\u001b[0;31m     \u001b[0mquantile_best_responses\u001b[0m \u001b[0;34m=\u001b[0m \u001b[0;34m[\u001b[0m\u001b[0mquantile_best_response_distribution\u001b[0m\u001b[0;34m(\u001b[0m\u001b[0mbeta\u001b[0m\u001b[0;34m,\u001b[0m \u001b[0ms\u001b[0m\u001b[0;34m,\u001b[0m \u001b[0metas\u001b[0m\u001b[0;34m,\u001b[0m \u001b[0mgammas\u001b[0m\u001b[0;34m,\u001b[0m \u001b[0msigma\u001b[0m\u001b[0;34m,\u001b[0m \u001b[0mscore_bounds\u001b[0m\u001b[0;34m,\u001b[0m \u001b[0mq\u001b[0m\u001b[0;34m)\u001b[0m \u001b[0;32mfor\u001b[0m \u001b[0ms\u001b[0m \u001b[0;32min\u001b[0m \u001b[0mthresholds\u001b[0m\u001b[0;34m]\u001b[0m\u001b[0;34m\u001b[0m\u001b[0;34m\u001b[0m\u001b[0m\n\u001b[0m\u001b[1;32m     50\u001b[0m     \u001b[0mbr\u001b[0m \u001b[0;34m=\u001b[0m \u001b[0mnp\u001b[0m\u001b[0;34m.\u001b[0m\u001b[0marray\u001b[0m\u001b[0;34m(\u001b[0m\u001b[0mquantile_best_responses\u001b[0m\u001b[0;34m)\u001b[0m\u001b[0;34m.\u001b[0m\u001b[0mreshape\u001b[0m\u001b[0;34m(\u001b[0m\u001b[0;36m50\u001b[0m\u001b[0;34m,\u001b[0m \u001b[0;36m1\u001b[0m\u001b[0;34m)\u001b[0m\u001b[0;34m\u001b[0m\u001b[0;34m\u001b[0m\u001b[0m\n\u001b[1;32m     51\u001b[0m     \u001b[0mnoisy_fixed_point_idx\u001b[0m \u001b[0;34m=\u001b[0m \u001b[0mnp\u001b[0m\u001b[0;34m.\u001b[0m\u001b[0margmin\u001b[0m\u001b[0;34m(\u001b[0m\u001b[0mnp\u001b[0m\u001b[0;34m.\u001b[0m\u001b[0mabs\u001b[0m\u001b[0;34m(\u001b[0m\u001b[0mbr\u001b[0m \u001b[0;34m-\u001b[0m \u001b[0mthresholds\u001b[0m\u001b[0;34m)\u001b[0m\u001b[0;34m)\u001b[0m\u001b[0;34m\u001b[0m\u001b[0;34m\u001b[0m\u001b[0m\n",
      "\u001b[0;32m/tmp/ipykernel_54836/2551273234.py\u001b[0m in \u001b[0;36mquantile_best_response_distribution\u001b[0;34m(beta, s, etas, gammas, sigma, score_bounds, q)\u001b[0m\n\u001b[1;32m     37\u001b[0m     \u001b[0magent_best_responses\u001b[0m \u001b[0;34m=\u001b[0m \u001b[0;34m[\u001b[0m\u001b[0;34m]\u001b[0m\u001b[0;34m\u001b[0m\u001b[0;34m\u001b[0m\u001b[0m\n\u001b[1;32m     38\u001b[0m     \u001b[0;32mfor\u001b[0m \u001b[0mi\u001b[0m \u001b[0;32min\u001b[0m \u001b[0mrange\u001b[0m\u001b[0;34m(\u001b[0m\u001b[0mlen\u001b[0m\u001b[0;34m(\u001b[0m\u001b[0metas\u001b[0m\u001b[0;34m)\u001b[0m\u001b[0;34m)\u001b[0m\u001b[0;34m:\u001b[0m\u001b[0;34m\u001b[0m\u001b[0;34m\u001b[0m\u001b[0m\n\u001b[0;32m---> 39\u001b[0;31m         \u001b[0magent_best_responses\u001b[0m\u001b[0;34m.\u001b[0m\u001b[0mappend\u001b[0m\u001b[0;34m(\u001b[0m\u001b[0magent_best_response_mapping\u001b[0m\u001b[0;34m(\u001b[0m\u001b[0mbeta\u001b[0m\u001b[0;34m,\u001b[0m \u001b[0ms\u001b[0m\u001b[0;34m,\u001b[0m \u001b[0metas\u001b[0m\u001b[0;34m[\u001b[0m\u001b[0mi\u001b[0m\u001b[0;34m]\u001b[0m\u001b[0;34m,\u001b[0m \u001b[0mgammas\u001b[0m\u001b[0;34m[\u001b[0m\u001b[0mi\u001b[0m\u001b[0;34m]\u001b[0m\u001b[0;34m,\u001b[0m \u001b[0msigma\u001b[0m\u001b[0;34m)\u001b[0m\u001b[0;34m)\u001b[0m\u001b[0;34m\u001b[0m\u001b[0;34m\u001b[0m\u001b[0m\n\u001b[0m\u001b[1;32m     40\u001b[0m     \u001b[0mscores\u001b[0m \u001b[0;34m=\u001b[0m \u001b[0;34m[\u001b[0m\u001b[0mnp\u001b[0m\u001b[0;34m.\u001b[0m\u001b[0mmatmul\u001b[0m\u001b[0;34m(\u001b[0m\u001b[0mnp\u001b[0m\u001b[0;34m.\u001b[0m\u001b[0mtranspose\u001b[0m\u001b[0;34m(\u001b[0m\u001b[0mbeta\u001b[0m\u001b[0;34m)\u001b[0m\u001b[0;34m,\u001b[0m \u001b[0mx\u001b[0m\u001b[0;34m)\u001b[0m \u001b[0;32mfor\u001b[0m \u001b[0mx\u001b[0m \u001b[0;32min\u001b[0m \u001b[0magent_best_responses\u001b[0m\u001b[0;34m]\u001b[0m\u001b[0;34m\u001b[0m\u001b[0;34m\u001b[0m\u001b[0m\n\u001b[1;32m     41\u001b[0m     \u001b[0mnoises\u001b[0m \u001b[0;34m=\u001b[0m \u001b[0mnorm\u001b[0m\u001b[0;34m.\u001b[0m\u001b[0mrvs\u001b[0m\u001b[0;34m(\u001b[0m\u001b[0mloc\u001b[0m\u001b[0;34m=\u001b[0m\u001b[0;36m0.\u001b[0m\u001b[0;34m,\u001b[0m \u001b[0mscale\u001b[0m\u001b[0;34m=\u001b[0m\u001b[0msigma\u001b[0m\u001b[0;34m,\u001b[0m \u001b[0msize\u001b[0m\u001b[0;34m=\u001b[0m\u001b[0mlen\u001b[0m\u001b[0;34m(\u001b[0m\u001b[0metas\u001b[0m\u001b[0;34m)\u001b[0m\u001b[0;34m)\u001b[0m\u001b[0;34m.\u001b[0m\u001b[0mreshape\u001b[0m\u001b[0;34m(\u001b[0m\u001b[0metas\u001b[0m\u001b[0;34m.\u001b[0m\u001b[0mshape\u001b[0m\u001b[0;34m[\u001b[0m\u001b[0;36m0\u001b[0m\u001b[0;34m]\u001b[0m\u001b[0;34m,\u001b[0m \u001b[0;36m1\u001b[0m\u001b[0;34m)\u001b[0m\u001b[0;34m\u001b[0m\u001b[0;34m\u001b[0m\u001b[0m\n",
      "\u001b[0;32m/tmp/ipykernel_54836/2551273234.py\u001b[0m in \u001b[0;36magent_best_response_mapping\u001b[0;34m(beta, s, eta, gamma, sigma)\u001b[0m\n\u001b[1;32m     25\u001b[0m \u001b[0;32mdef\u001b[0m \u001b[0magent_best_response_mapping\u001b[0m\u001b[0;34m(\u001b[0m\u001b[0mbeta\u001b[0m\u001b[0;34m,\u001b[0m \u001b[0ms\u001b[0m\u001b[0;34m,\u001b[0m \u001b[0meta\u001b[0m\u001b[0;34m,\u001b[0m \u001b[0mgamma\u001b[0m\u001b[0;34m,\u001b[0m \u001b[0msigma\u001b[0m\u001b[0;34m)\u001b[0m\u001b[0;34m:\u001b[0m\u001b[0;34m\u001b[0m\u001b[0;34m\u001b[0m\u001b[0m\n\u001b[1;32m     26\u001b[0m     \u001b[0mx0\u001b[0m \u001b[0;34m=\u001b[0m \u001b[0mnp\u001b[0m\u001b[0;34m.\u001b[0m\u001b[0marray\u001b[0m\u001b[0;34m(\u001b[0m\u001b[0;34m[\u001b[0m\u001b[0;36m0.5\u001b[0m\u001b[0;34m,\u001b[0m \u001b[0;36m0.5\u001b[0m\u001b[0;34m]\u001b[0m\u001b[0;34m)\u001b[0m\u001b[0;34m\u001b[0m\u001b[0;34m\u001b[0m\u001b[0m\n\u001b[0;32m---> 27\u001b[0;31m     \u001b[0mval\u001b[0m \u001b[0;34m=\u001b[0m \u001b[0mnewton\u001b[0m\u001b[0;34m(\u001b[0m\u001b[0mfunc_derivative_utility\u001b[0m\u001b[0;34m(\u001b[0m\u001b[0mbeta\u001b[0m\u001b[0;34m,\u001b[0m \u001b[0ms\u001b[0m\u001b[0;34m,\u001b[0m \u001b[0meta\u001b[0m\u001b[0;34m,\u001b[0m \u001b[0mgamma\u001b[0m\u001b[0;34m,\u001b[0m \u001b[0msigma\u001b[0m\u001b[0;34m)\u001b[0m\u001b[0;34m,\u001b[0m \u001b[0mx0\u001b[0m\u001b[0;34m=\u001b[0m\u001b[0mx0\u001b[0m\u001b[0;34m,\u001b[0m  \u001b[0mmaxiter\u001b[0m\u001b[0;34m=\u001b[0m\u001b[0;36m5000\u001b[0m\u001b[0;34m)\u001b[0m\u001b[0;34m\u001b[0m\u001b[0;34m\u001b[0m\u001b[0m\n\u001b[0m\u001b[1;32m     28\u001b[0m     \u001b[0mval\u001b[0m \u001b[0;34m=\u001b[0m \u001b[0mnp\u001b[0m\u001b[0;34m.\u001b[0m\u001b[0mclip\u001b[0m\u001b[0;34m(\u001b[0m\u001b[0mval\u001b[0m\u001b[0;34m,\u001b[0m \u001b[0ma_min\u001b[0m\u001b[0;34m=\u001b[0m\u001b[0;36m0.\u001b[0m\u001b[0;34m,\u001b[0m \u001b[0ma_max\u001b[0m\u001b[0;34m=\u001b[0m\u001b[0;36m1.\u001b[0m\u001b[0;34m)\u001b[0m\u001b[0;34m\u001b[0m\u001b[0;34m\u001b[0m\u001b[0m\n\u001b[1;32m     29\u001b[0m     \u001b[0;32mreturn\u001b[0m \u001b[0mval\u001b[0m\u001b[0;34m\u001b[0m\u001b[0;34m\u001b[0m\u001b[0m\n",
      "\u001b[0;32m~/miniconda3/envs/py3/lib/python3.8/site-packages/scipy/optimize/zeros.py\u001b[0m in \u001b[0;36mnewton\u001b[0;34m(func, x0, fprime, args, tol, maxiter, fprime2, x1, rtol, full_output, disp)\u001b[0m\n\u001b[1;32m    268\u001b[0m         \u001b[0;32mraise\u001b[0m \u001b[0mValueError\u001b[0m\u001b[0;34m(\u001b[0m\u001b[0;34m\"maxiter must be greater than 0\"\u001b[0m\u001b[0;34m)\u001b[0m\u001b[0;34m\u001b[0m\u001b[0;34m\u001b[0m\u001b[0m\n\u001b[1;32m    269\u001b[0m     \u001b[0;32mif\u001b[0m \u001b[0mnp\u001b[0m\u001b[0;34m.\u001b[0m\u001b[0msize\u001b[0m\u001b[0;34m(\u001b[0m\u001b[0mx0\u001b[0m\u001b[0;34m)\u001b[0m \u001b[0;34m>\u001b[0m \u001b[0;36m1\u001b[0m\u001b[0;34m:\u001b[0m\u001b[0;34m\u001b[0m\u001b[0;34m\u001b[0m\u001b[0m\n\u001b[0;32m--> 270\u001b[0;31m         return _array_newton(func, x0, fprime, args, tol, maxiter, fprime2,\n\u001b[0m\u001b[1;32m    271\u001b[0m                              full_output)\n\u001b[1;32m    272\u001b[0m \u001b[0;34m\u001b[0m\u001b[0m\n",
      "\u001b[0;32m~/miniconda3/envs/py3/lib/python3.8/site-packages/scipy/optimize/zeros.py\u001b[0m in \u001b[0;36m_array_newton\u001b[0;34m(func, x0, fprime, args, tol, maxiter, fprime2, full_output)\u001b[0m\n\u001b[1;32m    430\u001b[0m             \u001b[0mp1\u001b[0m\u001b[0;34m,\u001b[0m \u001b[0mp\u001b[0m \u001b[0;34m=\u001b[0m \u001b[0mp\u001b[0m\u001b[0;34m,\u001b[0m \u001b[0mp1\u001b[0m\u001b[0;34m\u001b[0m\u001b[0;34m\u001b[0m\u001b[0m\n\u001b[1;32m    431\u001b[0m             \u001b[0mq0\u001b[0m \u001b[0;34m=\u001b[0m \u001b[0mq1\u001b[0m\u001b[0;34m\u001b[0m\u001b[0;34m\u001b[0m\u001b[0m\n\u001b[0;32m--> 432\u001b[0;31m             \u001b[0mq1\u001b[0m \u001b[0;34m=\u001b[0m \u001b[0mnp\u001b[0m\u001b[0;34m.\u001b[0m\u001b[0masarray\u001b[0m\u001b[0;34m(\u001b[0m\u001b[0mfunc\u001b[0m\u001b[0;34m(\u001b[0m\u001b[0mp1\u001b[0m\u001b[0;34m,\u001b[0m \u001b[0;34m*\u001b[0m\u001b[0margs\u001b[0m\u001b[0;34m)\u001b[0m\u001b[0;34m)\u001b[0m\u001b[0;34m\u001b[0m\u001b[0;34m\u001b[0m\u001b[0m\n\u001b[0m\u001b[1;32m    433\u001b[0m \u001b[0;34m\u001b[0m\u001b[0m\n\u001b[1;32m    434\u001b[0m     \u001b[0mzero_der\u001b[0m \u001b[0;34m=\u001b[0m \u001b[0;34m~\u001b[0m\u001b[0mnz_der\u001b[0m \u001b[0;34m&\u001b[0m \u001b[0mfailures\u001b[0m  \u001b[0;31m# don't include converged with zero-ders\u001b[0m\u001b[0;34m\u001b[0m\u001b[0;34m\u001b[0m\u001b[0m\n",
      "\u001b[0;32m/tmp/ipykernel_54836/2551273234.py\u001b[0m in \u001b[0;36mf\u001b[0;34m(x)\u001b[0m\n\u001b[1;32m     18\u001b[0m         \u001b[0mcost_of_gaming\u001b[0m\u001b[0;34m=\u001b[0m \u001b[0;34m-\u001b[0m\u001b[0;36m2\u001b[0m \u001b[0;34m*\u001b[0m\u001b[0mnp\u001b[0m\u001b[0;34m.\u001b[0m\u001b[0mmatmul\u001b[0m\u001b[0;34m(\u001b[0m\u001b[0mnp\u001b[0m\u001b[0;34m.\u001b[0m\u001b[0mtranspose\u001b[0m\u001b[0;34m(\u001b[0m\u001b[0md\u001b[0m\u001b[0;34m)\u001b[0m\u001b[0;34m,\u001b[0m \u001b[0mnp\u001b[0m\u001b[0;34m.\u001b[0m\u001b[0mdiag\u001b[0m\u001b[0;34m(\u001b[0m\u001b[0mgamma\u001b[0m\u001b[0;34m)\u001b[0m\u001b[0;34m)\u001b[0m\u001b[0;34m\u001b[0m\u001b[0;34m\u001b[0m\u001b[0m\n\u001b[1;32m     19\u001b[0m         \u001b[0mscore\u001b[0m \u001b[0;34m=\u001b[0m \u001b[0mnp\u001b[0m\u001b[0;34m.\u001b[0m\u001b[0mmatmul\u001b[0m\u001b[0;34m(\u001b[0m\u001b[0mnp\u001b[0m\u001b[0;34m.\u001b[0m\u001b[0mtranspose\u001b[0m\u001b[0;34m(\u001b[0m\u001b[0mbeta\u001b[0m\u001b[0;34m)\u001b[0m\u001b[0;34m,\u001b[0m \u001b[0mx\u001b[0m\u001b[0;34m)\u001b[0m\u001b[0;34m.\u001b[0m\u001b[0mitem\u001b[0m\u001b[0;34m(\u001b[0m\u001b[0;34m)\u001b[0m\u001b[0;34m\u001b[0m\u001b[0;34m\u001b[0m\u001b[0m\n\u001b[0;32m---> 20\u001b[0;31m         \u001b[0mallocation\u001b[0m \u001b[0;34m=\u001b[0m \u001b[0mnorm\u001b[0m\u001b[0;34m.\u001b[0m\u001b[0mpdf\u001b[0m\u001b[0;34m(\u001b[0m\u001b[0ms\u001b[0m \u001b[0;34m-\u001b[0m \u001b[0mscore\u001b[0m\u001b[0;34m,\u001b[0m \u001b[0mloc\u001b[0m\u001b[0;34m=\u001b[0m\u001b[0;36m0.\u001b[0m\u001b[0;34m,\u001b[0m \u001b[0mscale\u001b[0m\u001b[0;34m=\u001b[0m\u001b[0msigma\u001b[0m\u001b[0;34m)\u001b[0m \u001b[0;34m*\u001b[0m \u001b[0mnp\u001b[0m\u001b[0;34m.\u001b[0m\u001b[0mtranspose\u001b[0m\u001b[0;34m(\u001b[0m\u001b[0mbeta\u001b[0m\u001b[0;34m)\u001b[0m\u001b[0;34m\u001b[0m\u001b[0;34m\u001b[0m\u001b[0m\n\u001b[0m\u001b[1;32m     21\u001b[0m         \u001b[0mval\u001b[0m \u001b[0;34m=\u001b[0m \u001b[0mcost_of_gaming\u001b[0m \u001b[0;34m+\u001b[0m \u001b[0mallocation\u001b[0m\u001b[0;34m\u001b[0m\u001b[0;34m\u001b[0m\u001b[0m\n\u001b[1;32m     22\u001b[0m         \u001b[0;32mreturn\u001b[0m \u001b[0;34m(\u001b[0m\u001b[0mcost_of_gaming\u001b[0m \u001b[0;34m+\u001b[0m \u001b[0mallocation\u001b[0m\u001b[0;34m)\u001b[0m\u001b[0;34m.\u001b[0m\u001b[0mflatten\u001b[0m\u001b[0;34m(\u001b[0m\u001b[0;34m)\u001b[0m\u001b[0;34m\u001b[0m\u001b[0;34m\u001b[0m\u001b[0m\n",
      "\u001b[0;32m~/miniconda3/envs/py3/lib/python3.8/site-packages/scipy/stats/_distn_infrastructure.py\u001b[0m in \u001b[0;36mpdf\u001b[0;34m(self, x, *args, **kwds)\u001b[0m\n\u001b[1;32m   1870\u001b[0m         \u001b[0mx\u001b[0m \u001b[0;34m=\u001b[0m \u001b[0mnp\u001b[0m\u001b[0;34m.\u001b[0m\u001b[0masarray\u001b[0m\u001b[0;34m(\u001b[0m\u001b[0;34m(\u001b[0m\u001b[0mx\u001b[0m \u001b[0;34m-\u001b[0m \u001b[0mloc\u001b[0m\u001b[0;34m)\u001b[0m\u001b[0;34m/\u001b[0m\u001b[0mscale\u001b[0m\u001b[0;34m,\u001b[0m \u001b[0mdtype\u001b[0m\u001b[0;34m=\u001b[0m\u001b[0mdtyp\u001b[0m\u001b[0;34m)\u001b[0m\u001b[0;34m\u001b[0m\u001b[0;34m\u001b[0m\u001b[0m\n\u001b[1;32m   1871\u001b[0m         \u001b[0mcond0\u001b[0m \u001b[0;34m=\u001b[0m \u001b[0mself\u001b[0m\u001b[0;34m.\u001b[0m\u001b[0m_argcheck\u001b[0m\u001b[0;34m(\u001b[0m\u001b[0;34m*\u001b[0m\u001b[0margs\u001b[0m\u001b[0;34m)\u001b[0m \u001b[0;34m&\u001b[0m \u001b[0;34m(\u001b[0m\u001b[0mscale\u001b[0m \u001b[0;34m>\u001b[0m \u001b[0;36m0\u001b[0m\u001b[0;34m)\u001b[0m\u001b[0;34m\u001b[0m\u001b[0;34m\u001b[0m\u001b[0m\n\u001b[0;32m-> 1872\u001b[0;31m         \u001b[0mcond1\u001b[0m \u001b[0;34m=\u001b[0m \u001b[0mself\u001b[0m\u001b[0;34m.\u001b[0m\u001b[0m_support_mask\u001b[0m\u001b[0;34m(\u001b[0m\u001b[0mx\u001b[0m\u001b[0;34m,\u001b[0m \u001b[0;34m*\u001b[0m\u001b[0margs\u001b[0m\u001b[0;34m)\u001b[0m \u001b[0;34m&\u001b[0m \u001b[0;34m(\u001b[0m\u001b[0mscale\u001b[0m \u001b[0;34m>\u001b[0m \u001b[0;36m0\u001b[0m\u001b[0;34m)\u001b[0m\u001b[0;34m\u001b[0m\u001b[0;34m\u001b[0m\u001b[0m\n\u001b[0m\u001b[1;32m   1873\u001b[0m         \u001b[0mcond\u001b[0m \u001b[0;34m=\u001b[0m \u001b[0mcond0\u001b[0m \u001b[0;34m&\u001b[0m \u001b[0mcond1\u001b[0m\u001b[0;34m\u001b[0m\u001b[0;34m\u001b[0m\u001b[0m\n\u001b[1;32m   1874\u001b[0m         \u001b[0moutput\u001b[0m \u001b[0;34m=\u001b[0m \u001b[0mzeros\u001b[0m\u001b[0;34m(\u001b[0m\u001b[0mshape\u001b[0m\u001b[0;34m(\u001b[0m\u001b[0mcond\u001b[0m\u001b[0;34m)\u001b[0m\u001b[0;34m,\u001b[0m \u001b[0mdtyp\u001b[0m\u001b[0;34m)\u001b[0m\u001b[0;34m\u001b[0m\u001b[0;34m\u001b[0m\u001b[0m\n",
      "\u001b[0;31mKeyboardInterrupt\u001b[0m: "
     ]
    }
   ],
   "source": [
    "sigma = compute_min_noise(gammas)\n",
    "losses, beta = run_full_game(q=0.5, maxiter=10, learning_rate=0.001)"
   ]
  },
  {
   "cell_type": "code",
   "execution_count": 7,
   "id": "b7ed5fbb",
   "metadata": {},
   "outputs": [
    {
     "data": {
      "text/plain": [
       "[<matplotlib.lines.Line2D at 0x7fb65763b820>]"
      ]
     },
     "execution_count": 7,
     "metadata": {},
     "output_type": "execute_result"
    },
    {
     "data": {
      "image/png": "[encoded data removed]",
      "text/plain": [
       "<Figure size 432x288 with 1 Axes>"
      ]
     },
     "metadata": {
      "needs_background": "light"
     },
     "output_type": "display_data"
    }
   ],
   "source": [
    "plt.plot(list(range(len(losses))), losses)"
   ]
  },
  {
   "cell_type": "markdown",
   "id": "f5e2c095",
   "metadata": {},
   "source": [
    "Testing functionality"
   ]
  },
  {
   "cell_type": "code",
   "execution_count": 8,
   "id": "bc397fc1",
   "metadata": {},
   "outputs": [
    {
     "data": {
      "text/plain": [
       "[<matplotlib.lines.Line2D at 0x7fb65753e040>]"
      ]
     },
     "execution_count": 8,
     "metadata": {},
     "output_type": "execute_result"
    },
    {
     "data": {
      "image/png": "[encoded data removed]",
      "text/plain": [
       "<Figure size 432x288 with 1 Axes>"
      ]
     },
     "metadata": {
      "needs_background": "light"
     },
     "output_type": "display_data"
    }
   ],
   "source": [
    "etas = np.array([0.5, 0.5]).reshape(1, 2)\n",
    "gammas = np.array([[10., 10.]]).reshape(1, 2)\n",
    "beta = np.array([np.sin(0.5), np.cos(0.5)]).reshape(2, 1)\n",
    "min_score, max_score = compute_score_bounds(beta)\n",
    "thresholds = np.linspace(min_score, max_score, 50)\n",
    "sigma = compute_min_noise(gammas)\n",
    "\n",
    "best_responses = [agent_best_response_mapping(beta, s, etas[0], gammas[0], sigma) for s in thresholds]\n",
    "\n",
    "scores = [np.matmul(np.transpose(beta), x) for x in best_responses]\n",
    "plt.plot(thresholds, scores)\n",
    "plt.plot(thresholds, thresholds)"
   ]
  },
  {
   "cell_type": "code",
   "execution_count": 9,
   "id": "7f6dcda7",
   "metadata": {},
   "outputs": [
    {
     "ename": "IndexError",
     "evalue": "index 618 is out of bounds for axis 0 with size 50",
     "output_type": "error",
     "traceback": [
      "\u001b[0;31m---------------------------------------------------------------------------\u001b[0m",
      "\u001b[0;31mIndexError\u001b[0m                                Traceback (most recent call last)",
      "\u001b[0;32m/tmp/ipykernel_54836/3280426753.py\u001b[0m in \u001b[0;36m<module>\u001b[0;34m\u001b[0m\n\u001b[1;32m      5\u001b[0m     \u001b[0mscore_bounds_beta\u001b[0m \u001b[0;34m=\u001b[0m \u001b[0mcompute_score_bounds\u001b[0m\u001b[0;34m(\u001b[0m\u001b[0mbeta\u001b[0m\u001b[0;34m)\u001b[0m\u001b[0;34m\u001b[0m\u001b[0;34m\u001b[0m\u001b[0m\n\u001b[1;32m      6\u001b[0m \u001b[0;34m\u001b[0m\u001b[0m\n\u001b[0;32m----> 7\u001b[0;31m     \u001b[0mfp\u001b[0m\u001b[0;34m.\u001b[0m\u001b[0mappend\u001b[0m\u001b[0;34m(\u001b[0m\u001b[0mquantile_fixed_point\u001b[0m\u001b[0;34m(\u001b[0m\u001b[0mbeta\u001b[0m\u001b[0;34m,\u001b[0m \u001b[0metas\u001b[0m\u001b[0;34m,\u001b[0m \u001b[0mgammas\u001b[0m\u001b[0;34m,\u001b[0m \u001b[0msigma\u001b[0m\u001b[0;34m,\u001b[0m \u001b[0mscore_bounds_beta\u001b[0m\u001b[0;34m,\u001b[0m \u001b[0;36m0.5\u001b[0m\u001b[0;34m)\u001b[0m\u001b[0;34m)\u001b[0m\u001b[0;34m\u001b[0m\u001b[0;34m\u001b[0m\u001b[0m\n\u001b[0m\u001b[1;32m      8\u001b[0m \u001b[0;34m\u001b[0m\u001b[0m\n\u001b[1;32m      9\u001b[0m \u001b[0mplt\u001b[0m\u001b[0;34m.\u001b[0m\u001b[0mplot\u001b[0m\u001b[0;34m(\u001b[0m\u001b[0mthetas\u001b[0m\u001b[0;34m,\u001b[0m \u001b[0mfp\u001b[0m\u001b[0;34m)\u001b[0m\u001b[0;34m\u001b[0m\u001b[0;34m\u001b[0m\u001b[0m\n",
      "\u001b[0;32m/tmp/ipykernel_54836/2551273234.py\u001b[0m in \u001b[0;36mquantile_fixed_point\u001b[0;34m(beta, etas, gammas, sigma, score_bounds, q)\u001b[0m\n\u001b[1;32m     50\u001b[0m     \u001b[0mbr\u001b[0m \u001b[0;34m=\u001b[0m \u001b[0mnp\u001b[0m\u001b[0;34m.\u001b[0m\u001b[0marray\u001b[0m\u001b[0;34m(\u001b[0m\u001b[0mquantile_best_responses\u001b[0m\u001b[0;34m)\u001b[0m\u001b[0;34m.\u001b[0m\u001b[0mreshape\u001b[0m\u001b[0;34m(\u001b[0m\u001b[0;36m50\u001b[0m\u001b[0;34m,\u001b[0m \u001b[0;36m1\u001b[0m\u001b[0;34m)\u001b[0m\u001b[0;34m\u001b[0m\u001b[0;34m\u001b[0m\u001b[0m\n\u001b[1;32m     51\u001b[0m     \u001b[0mnoisy_fixed_point_idx\u001b[0m \u001b[0;34m=\u001b[0m \u001b[0mnp\u001b[0m\u001b[0;34m.\u001b[0m\u001b[0margmin\u001b[0m\u001b[0;34m(\u001b[0m\u001b[0mnp\u001b[0m\u001b[0;34m.\u001b[0m\u001b[0mabs\u001b[0m\u001b[0;34m(\u001b[0m\u001b[0mbr\u001b[0m \u001b[0;34m-\u001b[0m \u001b[0mthresholds\u001b[0m\u001b[0;34m)\u001b[0m\u001b[0;34m)\u001b[0m\u001b[0;34m\u001b[0m\u001b[0;34m\u001b[0m\u001b[0m\n\u001b[0;32m---> 52\u001b[0;31m     \u001b[0mnoisy_fixed_point\u001b[0m \u001b[0;34m=\u001b[0m \u001b[0mthresholds\u001b[0m\u001b[0;34m[\u001b[0m\u001b[0mnoisy_fixed_point_idx\u001b[0m\u001b[0;34m]\u001b[0m\u001b[0;34m\u001b[0m\u001b[0;34m\u001b[0m\u001b[0m\n\u001b[0m\u001b[1;32m     53\u001b[0m \u001b[0;34m\u001b[0m\u001b[0m\n\u001b[1;32m     54\u001b[0m     \u001b[0;31m# should actually make sure that the noise being added is consistent everywhere...\u001b[0m\u001b[0;34m\u001b[0m\u001b[0;34m\u001b[0m\u001b[0;34m\u001b[0m\u001b[0m\n",
      "\u001b[0;31mIndexError\u001b[0m: index 618 is out of bounds for axis 0 with size 50"
     ]
    }
   ],
   "source": [
    "thetas = np.linspace(0., 2 * np.pi, 10)\n",
    "fp = []\n",
    "for theta in thetas:\n",
    "    beta = np.array([np.sin(theta), np.cos(theta)])\n",
    "    score_bounds_beta = compute_score_bounds(beta)\n",
    "\n",
    "    fp.append(quantile_fixed_point(beta, etas, gammas, sigma, score_bounds_beta, 0.5))\n",
    "    \n",
    "plt.plot(thetas, fp)"
   ]
  }
 ],
 "metadata": {
  "kernelspec": {
   "display_name": "Python 3 (ipykernel)",
   "language": "python",
   "name": "python3"
  },
  "language_info": {
   "codemirror_mode": {
    "name": "ipython",
    "version": 3
   },
   "file_extension": ".py",
   "mimetype": "text/x-python",
   "name": "python",
   "nbconvert_exporter": "python",
   "pygments_lexer": "ipython3",
   "version": "3.8.12"
  }
 },
 "nbformat": 4,
 "nbformat_minor": 5
}
