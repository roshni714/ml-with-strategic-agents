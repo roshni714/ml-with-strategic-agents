{
 "cells": [
  {
   "cell_type": "code",
   "execution_count": 3,
   "id": "b2ef955f",
   "metadata": {},
   "outputs": [],
   "source": [
    "import pandas as pd\n",
    "import numpy as np"
   ]
  },
  {
   "cell_type": "code",
   "execution_count": 4,
   "id": "beef0b6e",
   "metadata": {},
   "outputs": [],
   "source": [
    "df_ntypes_10 = pd.read_csv(\"results/challenge_partial_n_types_10_n_1000000.csv\")"
   ]
  },
  {
   "cell_type": "code",
   "execution_count": null,
   "id": "13674145",
   "metadata": {},
   "outputs": [],
   "source": [
    "df_ntypes_10 = pd.read_csv(\"results/challenge_partial_n_types_10_n_1000000.csv\")"
   ]
  },
  {
   "cell_type": "code",
   "execution_count": 5,
   "id": "02627507",
   "metadata": {},
   "outputs": [
    {
     "name": "stderr",
     "output_type": "stream",
     "text": [
      "/tmp/ipykernel_13886/474070842.py:1: FutureWarning: Dropping of nuisance columns in DataFrame reductions (with 'numeric_only=None') is deprecated; in a future version this will raise TypeError.  Select only valid columns before calling the reduction.\n",
      "  df_ntypes_10.mean()\n"
     ]
    },
    {
     "data": {
      "text/plain": [
       "n                     1000000.000000\n",
       "d                           2.000000\n",
       "n_types                    10.000000\n",
       "sigma                       3.304764\n",
       "q                           0.700000\n",
       "seed                        4.500000\n",
       "perturbation_s              0.200000\n",
       "perturbation_theta          0.025000\n",
       "opt_loss                   -1.605606\n",
       "opt_theta                   1.243814\n",
       "final_loss                 -1.525910\n",
       "final_theta                 0.560907\n",
       "dtype: float64"
      ]
     },
     "execution_count": 5,
     "metadata": {},
     "output_type": "execute_result"
    }
   ],
   "source": [
    "df_ntypes_10.mean()"
   ]
  },
  {
   "cell_type": "code",
   "execution_count": 15,
   "id": "1fdcdd60",
   "metadata": {},
   "outputs": [
    {
     "data": {
      "text/plain": [
       "0.020657869390516233"
      ]
     },
     "execution_count": 15,
     "metadata": {},
     "output_type": "execute_result"
    }
   ],
   "source": [
    "np.abs((df_ntypes_10[\"final_loss\"]- df_ntypes_10[\"opt_loss\"])).std()"
   ]
  },
  {
   "cell_type": "code",
   "execution_count": 17,
   "id": "b794aa82",
   "metadata": {},
   "outputs": [
    {
     "data": {
      "text/plain": [
       "0.13102700562303224"
      ]
     },
     "execution_count": 17,
     "metadata": {},
     "output_type": "execute_result"
    }
   ],
   "source": [
    "np.abs((df_ntypes_10[\"final_theta\"]- df_ntypes_10[\"opt_theta\"])).std()"
   ]
  },
  {
   "cell_type": "code",
   "execution_count": null,
   "id": "5c71caa6",
   "metadata": {},
   "outputs": [],
   "source": []
  }
 ],
 "metadata": {
  "kernelspec": {
   "display_name": "Python 3 (ipykernel)",
   "language": "python",
   "name": "python3"
  },
  "language_info": {
   "codemirror_mode": {
    "name": "ipython",
    "version": 3
   },
   "file_extension": ".py",
   "mimetype": "text/x-python",
   "name": "python",
   "nbconvert_exporter": "python",
   "pygments_lexer": "ipython3",
   "version": "3.8.12"
  }
 },
 "nbformat": 4,
 "nbformat_minor": 5
}
