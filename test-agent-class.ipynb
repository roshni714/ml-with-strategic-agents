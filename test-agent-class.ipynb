{
 "cells": [
  {
   "cell_type": "code",
   "execution_count": 77,
   "id": "cb67041c",
   "metadata": {},
   "outputs": [],
   "source": [
    "from scipy.stats import norm\n",
    "from scipy.optimize import newton\n",
    "import numpy as np\n",
    "import matplotlib.pyplot as plt\n",
    "\n",
    "class Agent:\n",
    "    \"\"\"This is a class for representing a strategic agent.\n",
    "\n",
    "    Keyword arguments:\n",
    "    eta -- natural ability of agent (D x 1)\n",
    "    gamma -- gaming ability of agent (D x 1)\n",
    "    \"\"\"\n",
    "    def __init__(self, eta, gamma):\n",
    "        self.eta = eta\n",
    "        self.gamma = gamma\n",
    "\n",
    "    def best_response(self, s, beta, sigma):\n",
    "        \"\"\"Method for computing an agent's best response given a particular model and threshold under a noise assumption.\n",
    "\n",
    "        Keyword arguments:\n",
    "        beta -- model parameters (D x 1)\n",
    "        s -- threshold (float)\n",
    "        sigma -- standard deviation of the noise distribution (float)\n",
    "        \"\"\"\n",
    "        #try:\n",
    "        val = newton(Agent._func_derivative_utility(beta, s, self.eta, self.gamma, sigma), x0=self.eta.flatten(),  maxiter=5000)\n",
    "\n",
    "            #val = self.eta\n",
    "\n",
    "        val = np.clip(val, a_min=0., a_max=1.)\n",
    "        return val\n",
    "    \n",
    "    def plot_best_response_score(self, beta, sigma):\n",
    "        bounds = compute_score_bounds(beta)\n",
    "        thresholds = np.linspace(bounds[0], bounds[1], 50)\n",
    "        br = [np.matmul(np.transpose(beta), self.best_response(s, beta, sigma)).item() for s in thresholds]\n",
    "        plt.xlabel(\"Threshold\")\n",
    "        plt.ylabel(\"Score of Best Response\")\n",
    "        plt.title(\"Score of Agent's Best Response vs. Threshold\")\n",
    "        plt.plot(thresholds, br)\n",
    "        plt.show()\n",
    "        plt.close()\n",
    "        \n",
    "    \n",
    "    @staticmethod\n",
    "    def _func_derivative_utility(beta, s, eta, gamma, sigma):\n",
    "        \"\"\"Method that returns a function that compute the derivative of an agent's utility function.\n",
    "        Note that scipy's implementation of Newton's Method expects arrays of shape (D,) so the function below\n",
    "        takes input of shape (D,). The input is reshaped to a (D x 1) vector in the method and the output is again\n",
    "        reshaped to be of shape (D,)\n",
    "        \"\"\"\n",
    "        def f(x):\n",
    "            d = x.reshape(eta.shape) - eta\n",
    "            cost_of_gaming= -2 *np.matmul(np.transpose(d), np.diag(gamma.flatten()))\n",
    "            score = np.matmul(np.transpose(beta), x).item()\n",
    "            allocation = norm.pdf(s - score, loc=0., scale=sigma) * np.transpose(beta)\n",
    "            val = cost_of_gaming + allocation\n",
    "            return (cost_of_gaming + allocation).flatten()\n",
    "        return f"
   ]
  },
  {
   "cell_type": "code",
   "execution_count": 78,
   "id": "add93f75",
   "metadata": {},
   "outputs": [],
   "source": [
    "def compute_score_bounds(beta):\n",
    "    \"\"\"Method that returns bounds on the highest and lowest possible scores that an agent can achieve.\n",
    "    Assumes that agents take actions in [0, 1]^D\n",
    "\n",
    "    Keyword arguments:\n",
    "    beta -- model parameters\n",
    "    \"\"\"\n",
    "    min_score = 0.\n",
    "    max_score = 0.\n",
    "    for param in beta:\n",
    "        if param >= 0:\n",
    "            max_score += param\n",
    "        else:\n",
    "            min_score -= param\n",
    "    return min_score, max_score"
   ]
  },
  {
   "cell_type": "code",
   "execution_count": 79,
   "id": "dc2b34e8",
   "metadata": {},
   "outputs": [
    {
     "data": {
      "image/png": "[encoded data removed]",
      "text/plain": [
       "<Figure size 432x288 with 1 Axes>"
      ]
     },
     "metadata": {
      "needs_background": "light"
     },
     "output_type": "display_data"
    }
   ],
   "source": [
    "import numpy as np\n",
    "\n",
    "eta = np.array([0.5, 0.5]).reshape(2, 1)\n",
    "gamma = np.array([1., 2.]).reshape(2, 1)\n",
    "agent = Agent(eta, gamma)\n",
    "beta = np.array([np.sin(np.pi/4), np.cos(np.pi/4)]).reshape(2, 1)\n",
    "agent.plot_best_response_score(beta, 0.35)\n"
   ]
  },
  {
   "cell_type": "code",
   "execution_count": null,
   "id": "799a4a05",
   "metadata": {},
   "outputs": [],
   "source": []
  },
  {
   "cell_type": "code",
   "execution_count": null,
   "id": "529a05d0",
   "metadata": {},
   "outputs": [],
   "source": []
  }
 ],
 "metadata": {
  "kernelspec": {
   "display_name": "Python 3 (ipykernel)",
   "language": "python",
   "name": "python3"
  },
  "language_info": {
   "codemirror_mode": {
    "name": "ipython",
    "version": 3
   },
   "file_extension": ".py",
   "mimetype": "text/x-python",
   "name": "python",
   "nbconvert_exporter": "python",
   "pygments_lexer": "ipython3",
   "version": "3.8.12"
  }
 },
 "nbformat": 4,
 "nbformat_minor": 5
}
