{
 "cells": [
  {
   "cell_type": "code",
   "execution_count": 1,
   "id": "c662ee44",
   "metadata": {},
   "outputs": [],
   "source": [
    "import numpy as np\n",
    "from agent_distribution import AgentDistribution\n",
    "from optimal_beta import expected_policy_loss\n",
    "import matplotlib.pyplot as plt\n",
    "from utils import compute_continuity_noise"
   ]
  },
  {
   "cell_type": "code",
   "execution_count": 2,
   "id": "5dec1934",
   "metadata": {},
   "outputs": [],
   "source": [
    "def create_generic_agent_dist(n, n_types, d):\n",
    "    etas = np.random.uniform(3.0, 8.0, n_types * d).reshape(n_types, d, 1)\n",
    "    gammas = np.random.uniform(0.05, 5.0, n_types * d).reshape(n_types, d, 1)\n",
    "    dic = {\"etas\": etas, \"gammas\": gammas}\n",
    "    agent_dist = AgentDistribution(n=n, d=d, n_types=n_types, types=dic, prop=None)\n",
    "    return agent_dist"
   ]
  },
  {
   "cell_type": "code",
   "execution_count": 10,
   "id": "4a239fa8",
   "metadata": {},
   "outputs": [],
   "source": [
    "agent_dist = create_generic_agent_dist(n=1000000, n_types=20, d=2)\n",
    "ks = np.linspace(0., 10., 20)\n",
    "beta = np.random.uniform(size=2).reshape(2, 1)\n",
    "beta_norm = np.sqrt(np.sum(beta ** 2))\n",
    "beta /=beta_norm\n",
    "q = 0.7\n",
    "sigma = compute_continuity_noise(agent_dist) + 0.05"
   ]
  },
  {
   "cell_type": "code",
   "execution_count": null,
   "id": "9c181a27",
   "metadata": {},
   "outputs": [
    {
     "name": "stdout",
     "output_type": "stream",
     "text": [
      "Failed to compute best response for agent with eta=[[6.22683055]\n",
      " [5.14498559]], gamma=[[0.97851447]\n",
      " [1.81609359]] under beta=[[3.59748038]\n",
      " [0.79469626]], s=[[27.75732647]], sigma=0.9058545463532625.\n",
      "Failed to compute best response for agent with eta=[[6.22683055]\n",
      " [5.14498559]], gamma=[[0.97851447]\n",
      " [1.81609359]] under beta=[[3.59748038]\n",
      " [0.79469626]], s=[[27.65738779]], sigma=0.9058545463532625.\n",
      "Failed to compute best response for agent with eta=[[6.22683055]\n",
      " [5.14498559]], gamma=[[0.97851447]\n",
      " [1.81609359]] under beta=[[3.59748038]\n",
      " [0.79469626]], s=[[27.6569974]], sigma=0.9058545463532625.\n",
      "Failed to compute best response for agent with eta=[[6.22683055]\n",
      " [5.14498559]], gamma=[[0.97851447]\n",
      " [1.81609359]] under beta=[[3.59748038]\n",
      " [0.79469626]], s=[[27.65680221]], sigma=0.9058545463532625.\n",
      "Failed to compute best response for agent with eta=[[6.22683055]\n",
      " [5.14498559]], gamma=[[0.97851447]\n",
      " [1.81609359]] under beta=[[3.59748038]\n",
      " [0.79469626]], s=[[27.65675341]], sigma=0.9058545463532625.\n",
      "Failed to compute best response for agent with eta=[[6.22683055]\n",
      " [5.14498559]], gamma=[[0.97851447]\n",
      " [1.81609359]] under beta=[[3.59748038]\n",
      " [0.79469626]], s=[[27.65672901]], sigma=0.9058545463532625.\n",
      "Failed to compute best response for agent with eta=[[6.22683055]\n",
      " [5.14498559]], gamma=[[0.97851447]\n",
      " [1.81609359]] under beta=[[3.59748038]\n",
      " [0.79469626]], s=[[27.65671682]], sigma=0.9058545463532625.\n",
      "Failed to compute best response for agent with eta=[[6.22683055]\n",
      " [5.14498559]], gamma=[[0.97851447]\n",
      " [1.81609359]] under beta=[[3.59748038]\n",
      " [0.79469626]], s=[[27.65671072]], sigma=0.9058545463532625.\n",
      "Failed to compute best response for agent with eta=[[6.22683055]\n",
      " [5.14498559]], gamma=[[0.97851447]\n",
      " [1.81609359]] under beta=[[3.59748038]\n",
      " [0.79469626]], s=[[27.65670995]], sigma=0.9058545463532625.\n",
      "Failed to compute best response for agent with eta=[[6.22683055]\n",
      " [5.14498559]], gamma=[[0.97851447]\n",
      " [1.81609359]] under beta=[[3.59748038]\n",
      " [0.79469626]], s=[[27.65670976]], sigma=0.9058545463532625.\n",
      "Failed to compute best response for agent with eta=[[6.22683055]\n",
      " [5.14498559]], gamma=[[0.97851447]\n",
      " [1.81609359]] under beta=[[3.59748038]\n",
      " [0.79469626]], s=[[27.65670971]], sigma=0.9058545463532625.\n",
      "Failed to compute best response for agent with eta=[[5.99793196]\n",
      " [6.43323248]], gamma=[[1.27171414]\n",
      " [3.06598488]] under beta=[[4.11140614]\n",
      " [0.9082243 ]], s=[[32.05415755]], sigma=0.9058545463532625.\n",
      "Failed to compute best response for agent with eta=[[5.99793196]\n",
      " [6.43323248]], gamma=[[1.27171414]\n",
      " [3.06598488]] under beta=[[4.11140614]\n",
      " [0.9082243 ]], s=[[31.94196391]], sigma=0.9058545463532625.\n"
     ]
    },
    {
     "name": "stderr",
     "output_type": "stream",
     "text": [
      "/home/users/rsahoo/miniconda3/envs/py3/lib/python3.8/site-packages/scipy/optimize/zeros.py:459: RuntimeWarning: some failed to converge after 20000 iterations\n",
      "  warnings.warn(msg, RuntimeWarning)\n"
     ]
    },
    {
     "name": "stdout",
     "output_type": "stream",
     "text": [
      "Failed to compute best response for agent with eta=[[5.83051854]\n",
      " [7.21514156]], gamma=[[2.01296465]\n",
      " [2.6894005 ]] under beta=[[4.62533191]\n",
      " [1.02175234]], s=[[35.57788814]], sigma=0.9058545463532625.\n",
      "Failed to compute best response for agent with eta=[[5.83051854]\n",
      " [7.21514156]], gamma=[[2.01296465]\n",
      " [2.6894005 ]] under beta=[[4.62533191]\n",
      " [1.02175234]], s=[[35.51566384]], sigma=0.9058545463532625.\n",
      "Failed to compute best response for agent with eta=[[5.83051854]\n",
      " [7.21514156]], gamma=[[2.01296465]\n",
      " [2.6894005 ]] under beta=[[4.62533191]\n",
      " [1.02175234]], s=[[35.4845517]], sigma=0.9058545463532625.\n",
      "Failed to compute best response for agent with eta=[[5.83051854]\n",
      " [7.21514156]], gamma=[[2.01296465]\n",
      " [2.6894005 ]] under beta=[[4.62533191]\n",
      " [1.02175234]], s=[[35.47677366]], sigma=0.9058545463532625.\n",
      "Failed to compute best response for agent with eta=[[5.83051854]\n",
      " [7.21514156]], gamma=[[2.01296465]\n",
      " [2.6894005 ]] under beta=[[4.62533191]\n",
      " [1.02175234]], s=[[35.47482915]], sigma=0.9058545463532625.\n",
      "Failed to compute best response for agent with eta=[[5.83051854]\n",
      " [7.21514156]], gamma=[[2.01296465]\n",
      " [2.6894005 ]] under beta=[[4.62533191]\n",
      " [1.02175234]], s=[[35.4738569]], sigma=0.9058545463532625.\n",
      "Failed to compute best response for agent with eta=[[5.83051854]\n",
      " [7.21514156]], gamma=[[2.01296465]\n",
      " [2.6894005 ]] under beta=[[4.62533191]\n",
      " [1.02175234]], s=[[35.47373536]], sigma=0.9058545463532625.\n",
      "Failed to compute best response for agent with eta=[[5.83051854]\n",
      " [7.21514156]], gamma=[[2.01296465]\n",
      " [2.6894005 ]] under beta=[[4.62533191]\n",
      " [1.02175234]], s=[[35.47370498]], sigma=0.9058545463532625.\n",
      "Failed to compute best response for agent with eta=[[5.83051854]\n",
      " [7.21514156]], gamma=[[2.01296465]\n",
      " [2.6894005 ]] under beta=[[4.62533191]\n",
      " [1.02175234]], s=[[35.47370118]], sigma=0.9058545463532625.\n",
      "Failed to compute best response for agent with eta=[[5.83051854]\n",
      " [7.21514156]], gamma=[[2.01296465]\n",
      " [2.6894005 ]] under beta=[[4.62533191]\n",
      " [1.02175234]], s=[[35.47369928]], sigma=0.9058545463532625.\n",
      "Failed to compute best response for agent with eta=[[5.83051854]\n",
      " [7.21514156]], gamma=[[2.01296465]\n",
      " [2.6894005 ]] under beta=[[4.62533191]\n",
      " [1.02175234]], s=[[35.47369833]], sigma=0.9058545463532625.\n",
      "Failed to compute best response for agent with eta=[[5.83051854]\n",
      " [7.21514156]], gamma=[[2.01296465]\n",
      " [2.6894005 ]] under beta=[[4.62533191]\n",
      " [1.02175234]], s=[[35.47369828]], sigma=0.9058545463532625.\n",
      "Failed to compute best response for agent with eta=[[5.83051854]\n",
      " [7.21514156]], gamma=[[2.01296465]\n",
      " [2.6894005 ]] under beta=[[4.62533191]\n",
      " [1.02175234]], s=[[35.47369826]], sigma=0.9058545463532625.\n",
      "Failed to compute best response for agent with eta=[[5.83051854]\n",
      " [7.21514156]], gamma=[[2.01296465]\n",
      " [2.6894005 ]] under beta=[[4.62533191]\n",
      " [1.02175234]], s=35.47369826071465, sigma=0.9058545463532625.\n"
     ]
    }
   ],
   "source": [
    "losses = []\n",
    "for k in ks:\n",
    "    beta_k = beta * k\n",
    "    s_eq = agent_dist.quantile_fixed_point_true_distribution(beta_k, sigma, q)\n",
    "    loss = expected_policy_loss(agent_dist, beta_k, s_eq, sigma)\n",
    "    losses.append(loss)"
   ]
  },
  {
   "cell_type": "code",
   "execution_count": 9,
   "id": "0326141b",
   "metadata": {},
   "outputs": [
    {
     "data": {
      "text/plain": [
       "Text(0, 0.5, 'Equilibrium Loss$L(k \\\\beta, s(k\\\\beta))$')"
      ]
     },
     "execution_count": 9,
     "metadata": {},
     "output_type": "execute_result"
    },
    {
     "data": {
      "image/png": "[encoded data removed]",
      "text/plain": [
       "<Figure size 432x288 with 1 Axes>"
      ]
     },
     "metadata": {
      "needs_background": "light"
     },
     "output_type": "display_data"
    }
   ],
   "source": [
    "plt.plot(ks, losses)\n",
    "plt.xlabel(\"k\")\n",
    "plt.ylabel(\"Equilibrium Loss\" +  r\"$L(k \\beta, s(k\\beta))$\")"
   ]
  },
  {
   "cell_type": "code",
   "execution_count": null,
   "id": "d561c0ae",
   "metadata": {},
   "outputs": [],
   "source": []
  }
 ],
 "metadata": {
  "kernelspec": {
   "display_name": "Python 3 (ipykernel)",
   "language": "python",
   "name": "python3"
  },
  "language_info": {
   "codemirror_mode": {
    "name": "ipython",
    "version": 3
   },
   "file_extension": ".py",
   "mimetype": "text/x-python",
   "name": "python",
   "nbconvert_exporter": "python",
   "pygments_lexer": "ipython3",
   "version": "3.8.12"
  }
 },
 "nbformat": 4,
 "nbformat_minor": 5
}
