{
 "cells": [
  {
   "cell_type": "code",
   "execution_count": 4,
   "id": "d2bbda9f",
   "metadata": {},
   "outputs": [],
   "source": [
    "import numpy as np\n",
    "import matplotlib.pyplot as plt\n",
    "\n",
    "from agent_distribution import AgentDistribution\n",
    "from utils import compute_continuity_noise, compute_contraction_noise"
   ]
  },
  {
   "cell_type": "code",
   "execution_count": 5,
   "id": "58dd1e83",
   "metadata": {},
   "outputs": [],
   "source": [
    "def policy_loss(agent_dist, beta, s, sigma, true_beta=None):\n",
    "    \"\"\"Method that returns the policy loss incurred given an agent distribution and model and threshold.\n",
    "    Assumes that there is an model true_beta when applied to the agents' hidden eta features \n",
    "    optimally selects the top agents.\n",
    "    \n",
    "    Keyword args:\n",
    "    agent_dist -- AgentDistribution\n",
    "    beta -- model parameters (N, 1) array\n",
    "    s -- threshold (float)\n",
    "    sigma -- standard deviation of the noise (float)\n",
    "    true_beta -- (N, 1) array\n",
    "    \"\"\"\n",
    "    if true_beta == None:\n",
    "        true_beta = np.zeros(beta.shape)\n",
    "        true_beta[0] = 1.\n",
    "  \n",
    "    true_agent_types = agent_dist.n_agent_types\n",
    "    noisy_scores = agent_dist.best_response_noisy_score_distribution(beta, s, sigma)\n",
    "    positive_allocation = (noisy_scores >= s).flatten()\n",
    "\n",
    "    etas = agent_dist.get_etas()\n",
    "    etas_for_positive_allocation = etas[positive_allocation]\n",
    "    \n",
    "    positive_allocation_mean_true_score = np.mean([np.matmul(true_beta.T, eta).item() for eta in etas_for_positive_allocation]).item()\n",
    "    return -positive_allocation_mean_true_score\n",
    "    \n",
    "    \n",
    "def find_optimal_beta(agent_dist, sigma, q, plot=False):\n",
    "    \"\"\"Method that returns the optimal model parameters given an agent distribution.\n",
    "    \n",
    "    Method assumes that data is two dimensional (because model parameters are assumed to lie on unit circle.)\n",
    "    \n",
    "    Keyword args:\n",
    "    agent_dist -- AgentDistribution\n",
    "    q -- quantile of interest\n",
    "    \n",
    "    Returns:\n",
    "    opt_beta -- optimal model (N, 1) array\n",
    "    opt_s_beta -- fixed point corresponding to optimal model (float)\n",
    "    loss -- loss incurred at optimal beta (float)\n",
    "    \"\"\"\n",
    "    dim = agent_dist.d\n",
    "    assert dim==2, \"Method does not work for dimension {}\".format(dim)\n",
    "    \n",
    "    thetas = np.linspace(0, 2 * np.pi, 50)\n",
    "    fixed_points = []\n",
    "    betas = []\n",
    "    \n",
    "    #compute beta and fixed point for each theta\n",
    "    print(\"Computing fixed points...\")\n",
    "    for theta in thetas:\n",
    "        beta = np.array([np.sin(theta), np.cos(theta)]).reshape(dim, 1)\n",
    "        fp = agent_dist.quantile_fixed_point_polyfit(beta, sigma, q)\n",
    "        fixed_points.append(fp)\n",
    "        betas.append(beta)\n",
    "    \n",
    "    if plot:\n",
    "        plt.plot(thetas, fixed_points)\n",
    "        plt.xlabel(\"Thetas (corresponds to different Beta)\")\n",
    "        plt.ylabel(\"s_beta\")\n",
    "        plt.title(\"Location of Fixed Points: s_beta vs. beta\")\n",
    "        plt.show()\n",
    "        plt.close()\n",
    "        \n",
    "    #compute loss at each point, given a particular beta\n",
    "    print(\"Computing losses...\")\n",
    "    losses = []\n",
    "    for i in range(len(thetas)):\n",
    "        losses.append(policy_loss(agent_dist, betas[i], fixed_points[i], sigma))\n",
    "        \n",
    "    if plot:\n",
    "        plt.plot(thetas, losses)\n",
    "        plt.xlabel(\"Theta (corresponds to different beta)\")\n",
    "        plt.ylabel(\"Loss\")\n",
    "        plt.title(\"Loss at (beta, s_beta)\")\n",
    "        plt.show()\n",
    "        plt.close()\n",
    "        \n",
    "    idx = np.argmin(losses)\n",
    "    loss = losses[idx]\n",
    "    opt_beta = betas[idx]\n",
    "    opt_s_beta = fixed_points[idx]\n",
    "    return loss, opt_beta, opt_s_beta\n",
    "        \n",
    "    \n",
    "    \n",
    "    \n",
    "    \n",
    "        \n",
    "        \n",
    "        \n",
    "    \n",
    "    "
   ]
  },
  {
   "cell_type": "code",
   "execution_count": 6,
   "id": "7f706eaf",
   "metadata": {},
   "outputs": [],
   "source": [
    "agent_dist = AgentDistribution(n=10000, n_types=100)\n",
    "sigma_continuity = compute_continuity_noise(agent_dist)\n",
    "sigma_contraction = compute_contraction_noise(agent_dist)\n",
    "q = 0.7\n"
   ]
  },
  {
   "cell_type": "code",
   "execution_count": null,
   "id": "486088ad",
   "metadata": {},
   "outputs": [
    {
     "name": "stdout",
     "output_type": "stream",
     "text": [
      "Computing fixed points...\n"
     ]
    }
   ],
   "source": [
    "find_optimal_beta(agent_dist, sigma_continuity, q, plot=True)"
   ]
  },
  {
   "cell_type": "code",
   "execution_count": null,
   "id": "f7223e82",
   "metadata": {},
   "outputs": [],
   "source": [
    "find_optimal_beta(agent_dist, sigma_contraction, q, plot=True)"
   ]
  },
  {
   "cell_type": "code",
   "execution_count": null,
   "id": "5ad3543c",
   "metadata": {},
   "outputs": [],
   "source": []
  }
 ],
 "metadata": {
  "kernelspec": {
   "display_name": "Python 3 (ipykernel)",
   "language": "python",
   "name": "python3"
  },
  "language_info": {
   "codemirror_mode": {
    "name": "ipython",
    "version": 3
   },
   "file_extension": ".py",
   "mimetype": "text/x-python",
   "name": "python",
   "nbconvert_exporter": "python",
   "pygments_lexer": "ipython3",
   "version": "3.8.12"
  }
 },
 "nbformat": 4,
 "nbformat_minor": 5
}
