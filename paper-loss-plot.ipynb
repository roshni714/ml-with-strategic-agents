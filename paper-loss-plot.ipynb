{
 "cells": [
  {
   "cell_type": "code",
   "execution_count": 1,
   "id": "ae00d7fa",
   "metadata": {},
   "outputs": [],
   "source": [
    "import matplotlib.pyplot as plt\n",
    "import pandas as pd\n",
    "import numpy as np"
   ]
  },
  {
   "cell_type": "code",
   "execution_count": 2,
   "id": "5feeae29",
   "metadata": {},
   "outputs": [],
   "source": [
    "df1 = pd.read_csv(\"results/dim_10_test_generic_seed_0_gradient_type_total_deriv_train.csv\")\n",
    "df2 = pd.read_csv(\"results/dim_10_test_generic_seed_0_gradient_type_partial_deriv_loss_beta_train.csv\")"
   ]
  },
  {
   "cell_type": "code",
   "execution_count": 3,
   "id": "7c30bad8",
   "metadata": {},
   "outputs": [
    {
     "data": {
      "text/html": [
       "<div>\n",
       "<style scoped>\n",
       "    .dataframe tbody tr th:only-of-type {\n",
       "        vertical-align: middle;\n",
       "    }\n",
       "\n",
       "    .dataframe tbody tr th {\n",
       "        vertical-align: top;\n",
       "    }\n",
       "\n",
       "    .dataframe thead th {\n",
       "        text-align: right;\n",
       "    }\n",
       "</style>\n",
       "<table border=\"1\" class=\"dataframe\">\n",
       "  <thead>\n",
       "    <tr style=\"text-align: right;\">\n",
       "      <th></th>\n",
       "      <th>iteration</th>\n",
       "      <th>loss</th>\n",
       "      <th>params</th>\n",
       "    </tr>\n",
       "  </thead>\n",
       "  <tbody>\n",
       "    <tr>\n",
       "      <th>0</th>\n",
       "      <td>0</td>\n",
       "      <td>-1.694368</td>\n",
       "      <td>[0.0, 0.0, 0.0, 0.0, 0.0, 0.0, 0.0, 0.0, 0.0, ...</td>\n",
       "    </tr>\n",
       "    <tr>\n",
       "      <th>1</th>\n",
       "      <td>1</td>\n",
       "      <td>-2.130776</td>\n",
       "      <td>[0.5808950187287897, 0.2563054021360369, 0.393...</td>\n",
       "    </tr>\n",
       "    <tr>\n",
       "      <th>2</th>\n",
       "      <td>2</td>\n",
       "      <td>-2.177364</td>\n",
       "      <td>[0.6163390173189239, 0.2377849402156345, 0.442...</td>\n",
       "    </tr>\n",
       "    <tr>\n",
       "      <th>3</th>\n",
       "      <td>3</td>\n",
       "      <td>-2.200011</td>\n",
       "      <td>[0.5921901292264894, 0.17277226818571365, 0.45...</td>\n",
       "    </tr>\n",
       "    <tr>\n",
       "      <th>4</th>\n",
       "      <td>4</td>\n",
       "      <td>-2.211236</td>\n",
       "      <td>[0.552420063459259, 0.1493593787872147, 0.3829...</td>\n",
       "    </tr>\n",
       "    <tr>\n",
       "      <th>...</th>\n",
       "      <td>...</td>\n",
       "      <td>...</td>\n",
       "      <td>...</td>\n",
       "    </tr>\n",
       "    <tr>\n",
       "      <th>95</th>\n",
       "      <td>95</td>\n",
       "      <td>-2.074630</td>\n",
       "      <td>[0.2050860731753923, -0.20919120150887074, -0....</td>\n",
       "    </tr>\n",
       "    <tr>\n",
       "      <th>96</th>\n",
       "      <td>96</td>\n",
       "      <td>-2.178100</td>\n",
       "      <td>[0.34703023666794114, -0.05708370642416262, 0....</td>\n",
       "    </tr>\n",
       "    <tr>\n",
       "      <th>97</th>\n",
       "      <td>97</td>\n",
       "      <td>-2.127051</td>\n",
       "      <td>[0.24768046535636523, -0.18167854809027825, -0...</td>\n",
       "    </tr>\n",
       "    <tr>\n",
       "      <th>98</th>\n",
       "      <td>98</td>\n",
       "      <td>-2.159956</td>\n",
       "      <td>[0.2840839991808954, -0.10204510505692815, -0....</td>\n",
       "    </tr>\n",
       "    <tr>\n",
       "      <th>99</th>\n",
       "      <td>99</td>\n",
       "      <td>-2.069873</td>\n",
       "      <td>[0.13859885596064359, -0.20261615702476715, -0...</td>\n",
       "    </tr>\n",
       "  </tbody>\n",
       "</table>\n",
       "<p>100 rows × 3 columns</p>\n",
       "</div>"
      ],
      "text/plain": [
       "    iteration      loss                                             params\n",
       "0           0 -1.694368  [0.0, 0.0, 0.0, 0.0, 0.0, 0.0, 0.0, 0.0, 0.0, ...\n",
       "1           1 -2.130776  [0.5808950187287897, 0.2563054021360369, 0.393...\n",
       "2           2 -2.177364  [0.6163390173189239, 0.2377849402156345, 0.442...\n",
       "3           3 -2.200011  [0.5921901292264894, 0.17277226818571365, 0.45...\n",
       "4           4 -2.211236  [0.552420063459259, 0.1493593787872147, 0.3829...\n",
       "..        ...       ...                                                ...\n",
       "95         95 -2.074630  [0.2050860731753923, -0.20919120150887074, -0....\n",
       "96         96 -2.178100  [0.34703023666794114, -0.05708370642416262, 0....\n",
       "97         97 -2.127051  [0.24768046535636523, -0.18167854809027825, -0...\n",
       "98         98 -2.159956  [0.2840839991808954, -0.10204510505692815, -0....\n",
       "99         99 -2.069873  [0.13859885596064359, -0.20261615702476715, -0...\n",
       "\n",
       "[100 rows x 3 columns]"
      ]
     },
     "execution_count": 3,
     "metadata": {},
     "output_type": "execute_result"
    }
   ],
   "source": [
    "df1"
   ]
  },
  {
   "cell_type": "code",
   "execution_count": 4,
   "id": "dc1f2761",
   "metadata": {},
   "outputs": [],
   "source": [
    "def conversion_method(arr):\n",
    "    l = []\n",
    "    for s in arr:\n",
    "        t = s[1:-1].split(\", \")\n",
    "        t = [float(x) for x in t]\n",
    "        l.append(np.array(t).reshape(10, 1))\n",
    "    return l"
   ]
  },
  {
   "cell_type": "code",
   "execution_count": 5,
   "id": "2f5b01a2",
   "metadata": {},
   "outputs": [
    {
     "data": {
      "image/png": "[encoded data removed]",
      "text/plain": [
       "<Figure size 384x288 with 1 Axes>"
      ]
     },
     "metadata": {
      "needs_background": "light"
     },
     "output_type": "display_data"
    }
   ],
   "source": [
    "plt.figure(figsize=(16/3, 4))\n",
    "plt.plot(df2[\"iteration\"], df2[\"loss\"], label=\"GD with \" + r\"$\\tau_{DE}$\")\n",
    "plt.plot(df1[\"iteration\"], df1[\"loss\"], label=\"GD with \" + r\"$\\tau_{TE}$\")\n",
    "plt.xlabel(\"Iteration\", fontsize=15)\n",
    "plt.ylabel(\"Equilibrium Loss \" + r\"$L(\\hat{\\beta}, s(\\hat{\\beta}))$\", fontsize=15)\n",
    "plt.legend(fontsize=12)\n",
    "plt.title(\"Equilibrium Loss vs. Iteration\", fontsize=15)\n",
    "plt.savefig(\"figs/paper_plot_loss.pdf\", bbox_inches='tight')"
   ]
  },
  {
   "cell_type": "code",
   "execution_count": 28,
   "id": "dedb14b9",
   "metadata": {},
   "outputs": [],
   "source": [
    "params1 = conversion_method(df1[\"params\"])\n",
    "params2 = conversion_method(df2[\"params\"])"
   ]
  },
  {
   "cell_type": "code",
   "execution_count": 29,
   "id": "bd187e1a",
   "metadata": {},
   "outputs": [],
   "source": [
    "def all_norm(params):\n",
    "    return [np.sqrt(np.sum(x ** 2)).item() for x in params]\n",
    "    "
   ]
  },
  {
   "cell_type": "code",
   "execution_count": 30,
   "id": "e691911d",
   "metadata": {},
   "outputs": [
    {
     "data": {
      "text/plain": [
       "Text(0.5, 1.0, 'Loss vs. Iteration')"
      ]
     },
     "execution_count": 30,
     "metadata": {},
     "output_type": "execute_result"
    },
    {
     "data": {
      "image/png": "[encoded data removed]",
      "text/plain": [
       "<Figure size 432x288 with 1 Axes>"
      ]
     },
     "metadata": {
      "needs_background": "light"
     },
     "output_type": "display_data"
    }
   ],
   "source": [
    "plt.plot(df1[\"iteration\"], all_norm(params1), label=r\"$\\tau_{TE}$\")\n",
    "plt.xlabel(\"Iterations\")\n",
    "plt.ylabel(r\"$|| \\beta ||$\")\n",
    "plt.plot(df2[\"iteration\"], all_norm(params2), label=r\"$\\tau_{DE}$\")\n",
    "plt.legend()\n",
    "plt.title(\"Loss vs. Iteration\")\n",
    "\n"
   ]
  },
  {
   "cell_type": "code",
   "execution_count": 2,
   "id": "146b51aa",
   "metadata": {},
   "outputs": [],
   "source": [
    "df_all = pd.read_csv(\"results/dim_10_test_generic.csv\")"
   ]
  },
  {
   "cell_type": "code",
   "execution_count": 3,
   "id": "60138199",
   "metadata": {},
   "outputs": [
    {
     "data": {
      "text/html": [
       "<div>\n",
       "<style scoped>\n",
       "    .dataframe tbody tr th:only-of-type {\n",
       "        vertical-align: middle;\n",
       "    }\n",
       "\n",
       "    .dataframe tbody tr th {\n",
       "        vertical-align: top;\n",
       "    }\n",
       "\n",
       "    .dataframe thead tr th {\n",
       "        text-align: left;\n",
       "    }\n",
       "\n",
       "    .dataframe thead tr:last-of-type th {\n",
       "        text-align: right;\n",
       "    }\n",
       "</style>\n",
       "<table border=\"1\" class=\"dataframe\">\n",
       "  <thead>\n",
       "    <tr>\n",
       "      <th></th>\n",
       "      <th colspan=\"2\" halign=\"left\">n</th>\n",
       "      <th colspan=\"2\" halign=\"left\">d</th>\n",
       "      <th colspan=\"2\" halign=\"left\">n_types</th>\n",
       "      <th colspan=\"2\" halign=\"left\">sigma</th>\n",
       "      <th colspan=\"2\" halign=\"left\">q</th>\n",
       "      <th colspan=\"2\" halign=\"left\">seed</th>\n",
       "      <th colspan=\"2\" halign=\"left\">perturbation_s</th>\n",
       "      <th colspan=\"2\" halign=\"left\">perturbation_beta</th>\n",
       "      <th colspan=\"2\" halign=\"left\">final_loss</th>\n",
       "    </tr>\n",
       "    <tr>\n",
       "      <th></th>\n",
       "      <th>mean</th>\n",
       "      <th>std</th>\n",
       "      <th>mean</th>\n",
       "      <th>std</th>\n",
       "      <th>mean</th>\n",
       "      <th>std</th>\n",
       "      <th>mean</th>\n",
       "      <th>std</th>\n",
       "      <th>mean</th>\n",
       "      <th>std</th>\n",
       "      <th>mean</th>\n",
       "      <th>std</th>\n",
       "      <th>mean</th>\n",
       "      <th>std</th>\n",
       "      <th>mean</th>\n",
       "      <th>std</th>\n",
       "      <th>mean</th>\n",
       "      <th>std</th>\n",
       "    </tr>\n",
       "    <tr>\n",
       "      <th>gradient_type</th>\n",
       "      <th></th>\n",
       "      <th></th>\n",
       "      <th></th>\n",
       "      <th></th>\n",
       "      <th></th>\n",
       "      <th></th>\n",
       "      <th></th>\n",
       "      <th></th>\n",
       "      <th></th>\n",
       "      <th></th>\n",
       "      <th></th>\n",
       "      <th></th>\n",
       "      <th></th>\n",
       "      <th></th>\n",
       "      <th></th>\n",
       "      <th></th>\n",
       "      <th></th>\n",
       "      <th></th>\n",
       "    </tr>\n",
       "  </thead>\n",
       "  <tbody>\n",
       "    <tr>\n",
       "      <th>partial_deriv_loss_beta</th>\n",
       "      <td>1000000.0</td>\n",
       "      <td>0.0</td>\n",
       "      <td>10.0</td>\n",
       "      <td>0.0</td>\n",
       "      <td>10.0</td>\n",
       "      <td>0.0</td>\n",
       "      <td>1.109279</td>\n",
       "      <td>0.247703</td>\n",
       "      <td>0.7</td>\n",
       "      <td>0.0</td>\n",
       "      <td>4.5</td>\n",
       "      <td>3.02765</td>\n",
       "      <td>0.2</td>\n",
       "      <td>0.0</td>\n",
       "      <td>0.025</td>\n",
       "      <td>0.0</td>\n",
       "      <td>-1.809935</td>\n",
       "      <td>0.141643</td>\n",
       "    </tr>\n",
       "    <tr>\n",
       "      <th>total_deriv</th>\n",
       "      <td>1000000.0</td>\n",
       "      <td>0.0</td>\n",
       "      <td>10.0</td>\n",
       "      <td>0.0</td>\n",
       "      <td>10.0</td>\n",
       "      <td>0.0</td>\n",
       "      <td>1.109279</td>\n",
       "      <td>0.247703</td>\n",
       "      <td>0.7</td>\n",
       "      <td>0.0</td>\n",
       "      <td>4.5</td>\n",
       "      <td>3.02765</td>\n",
       "      <td>0.2</td>\n",
       "      <td>0.0</td>\n",
       "      <td>0.025</td>\n",
       "      <td>0.0</td>\n",
       "      <td>-2.043367</td>\n",
       "      <td>0.120628</td>\n",
       "    </tr>\n",
       "  </tbody>\n",
       "</table>\n",
       "</div>"
      ],
      "text/plain": [
       "                                 n          d      n_types          sigma  \\\n",
       "                              mean  std  mean  std    mean  std      mean   \n",
       "gradient_type                                                               \n",
       "partial_deriv_loss_beta  1000000.0  0.0  10.0  0.0    10.0  0.0  1.109279   \n",
       "total_deriv              1000000.0  0.0  10.0  0.0    10.0  0.0  1.109279   \n",
       "\n",
       "                                     q      seed          perturbation_s       \\\n",
       "                              std mean  std mean      std           mean  std   \n",
       "gradient_type                                                                   \n",
       "partial_deriv_loss_beta  0.247703  0.7  0.0  4.5  3.02765            0.2  0.0   \n",
       "total_deriv              0.247703  0.7  0.0  4.5  3.02765            0.2  0.0   \n",
       "\n",
       "                        perturbation_beta      final_loss            \n",
       "                                     mean  std       mean       std  \n",
       "gradient_type                                                        \n",
       "partial_deriv_loss_beta             0.025  0.0  -1.809935  0.141643  \n",
       "total_deriv                         0.025  0.0  -2.043367  0.120628  "
      ]
     },
     "execution_count": 3,
     "metadata": {},
     "output_type": "execute_result"
    }
   ],
   "source": [
    "df_all.groupby([\"gradient_type\"]).agg([\"mean\", \"std\"])"
   ]
  },
  {
   "cell_type": "code",
   "execution_count": null,
   "id": "0f06efb2",
   "metadata": {},
   "outputs": [],
   "source": []
  }
 ],
 "metadata": {
  "kernelspec": {
   "display_name": "Python 3 (ipykernel)",
   "language": "python",
   "name": "python3"
  },
  "language_info": {
   "codemirror_mode": {
    "name": "ipython",
    "version": 3
   },
   "file_extension": ".py",
   "mimetype": "text/x-python",
   "name": "python",
   "nbconvert_exporter": "python",
   "pygments_lexer": "ipython3",
   "version": "3.8.12"
  }
 },
 "nbformat": 4,
 "nbformat_minor": 5
}
